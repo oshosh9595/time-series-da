{
 "cells": [
  {
   "cell_type": "markdown",
   "metadata": {
    "colab_type": "text",
    "id": "view-in-github"
   },
   "source": [
    "<a href=\"https://colab.research.google.com/github/young1ll/time-series-da/blob/main/notebook/BTCUSD_cnn.ipynb\" target=\"_parent\"><img src=\"https://colab.research.google.com/assets/colab-badge.svg\" alt=\"Open In Colab\"/></a>"
   ]
  },
  {
   "cell_type": "markdown",
   "metadata": {
    "id": "IPS6BiPuER1A"
   },
   "source": [
    "# Predicting Cryptocurrency Price With Tensorflow and Keras\n",
    "\n",
    "- python v3.11.0\n",
    "\n",
    "## References\n",
    "- https://medium.com/@huangkh19951228/predicting-cryptocurrency-price-with-tensorflow-and-keras-e1674b0dc58a\n",
    "- https://github.com/khuangaf/CryptocurrencyPrediction/tree/master"
   ]
  },
  {
   "cell_type": "markdown",
   "metadata": {},
   "source": [
    "#### getting started(from git repo)\n",
    "1. [Test] Daily"
   ]
  },
  {
   "cell_type": "code",
   "execution_count": null,
   "metadata": {
    "id": "txIWsakiH2VW"
   },
   "outputs": [],
   "source": [
    "# # 해당 경로 제거\n",
    "# import shutil\n",
    "# shutil.rmtree('/content/weights_2018to2023')"
   ]
  },
  {
   "cell_type": "markdown",
   "metadata": {
    "id": "Fk2blgu6EirT"
   },
   "source": [
    "### 데이터 수집\n",
    "- JSONtoCSV\n",
    "- csv를 바로 직접 사용한다면 아래 과정 pass"
   ]
  },
  {
   "cell_type": "code",
   "execution_count": null,
   "metadata": {
    "id": "Hy64InutD_hx"
   },
   "outputs": [],
   "source": [
    "import json\n",
    "import numpy as np\n",
    "import os\n",
    "import pandas as pd\n",
    "# import urllib2\n",
    "import urllib.request\n",
    "\n",
    "# connect to poloniex's API\n",
    "# url = 'https://poloniex.com/public?command=returnChartData&currencyPair=USDT_BTC&start=1356998100&end=9999999999&period=300'\n",
    "\n",
    "# parse json returned from the API to Pandas DF\n",
    "# openUrl = urllib.request.urlopen(url)\n",
    "# r = openUrl.read()\n",
    "# openUrl.close()\n",
    "# d = json.loads(r.decode())\n",
    "# df = pd.DataFrame(d)\n",
    "\n",
    "# original_columns=[u'close', u'date', u'high', u'low', u'open']\n",
    "# new_columns = ['Close','Timestamp','High','Low','Open']\n",
    "# df = df.loc[:,original_columns]\n",
    "# df.columns = new_columns\n",
    "# df.to_csv('data/bitcoin2015to2017.csv',index=None)"
   ]
  },
  {
   "cell_type": "code",
   "execution_count": null,
   "metadata": {
    "id": "9cDS_ihi3J_d"
   },
   "outputs": [],
   "source": []
  },
  {
   "cell_type": "markdown",
   "metadata": {
    "id": "zN3035jdF654"
   },
   "source": [
    "### 전처리"
   ]
  },
  {
   "cell_type": "markdown",
   "metadata": {
    "id": "pl4JmoQSG_P4"
   },
   "source": [
    "### PastSampler\n",
    "> 데이터 스케일링"
   ]
  },
  {
   "cell_type": "code",
   "execution_count": 1,
   "metadata": {
    "id": "YUKDLVkrEfuh",
    "tags": []
   },
   "outputs": [],
   "source": [
    "import numpy as np\n",
    "import pandas as pd\n",
    " \n",
    "class PastSampler:\n",
    "    '''\n",
    "    Forms training samples for predicting future values from past value\n",
    "    '''\n",
    "     \n",
    "    def __init__(self, N, K, sliding_window = True):\n",
    "        '''\n",
    "        Predict K future sample using N previous samples\n",
    "        '''\n",
    "        self.K = K\n",
    "        self.N = N\n",
    "        self.sliding_window = sliding_window\n",
    " \n",
    "    def transform(self, A):\n",
    "        M = self.N + self.K     #Number of samples per row (sample + target)\n",
    "        #indexes\n",
    "        I = np.arange(M) + np.arange(0, A.shape[0] - M + self.sliding_window, M).reshape(-1, 1)\n",
    "            \n",
    "        B = A[I].reshape(-1, M * A.shape[1], A.shape[2])\n",
    "        ci = self.N * A.shape[1]    #Number of features per sample\n",
    "        return B[:, :ci], B[:, ci:] #Sample matrix, Target matrix\n",
    "\n",
    "#data file path\n",
    "# dfp = 'data/bitcoin2015to2017.csv'\n",
    "# dfp = 'data/Bitstamp_BTCUSD_1h.csv' # 2018-05-15 to 2023-05-08\n",
    "dfp = 'https://raw.githubusercontent.com/young1ll/time-series-da/main/data/2012to2023BTC-USD_investing.csv' # 2018-05-15 to 2023-05-08\n",
    "# [unix, date, symbol, open, high, low, close, Volume BTC, Volume USD]\n",
    "\n",
    "#Columns of price data to use\n",
    "columns = ['Price']\n",
    "df = pd.read_csv(dfp)\n",
    "time_stamps = df['Date']\n",
    "df = df.loc[:,columns]\n",
    "original_df = pd.read_csv(dfp).loc[:,columns]"
   ]
  },
  {
   "cell_type": "code",
   "execution_count": 2,
   "metadata": {
    "colab": {
     "base_uri": "https://localhost:8080/",
     "height": 423
    },
    "id": "IwaCZrR0GgBJ",
    "outputId": "184c517d-dbd4-4c5b-b5bd-083fe12f0290",
    "tags": []
   },
   "outputs": [
    {
     "data": {
      "text/html": [
       "<div>\n",
       "<style scoped>\n",
       "    .dataframe tbody tr th:only-of-type {\n",
       "        vertical-align: middle;\n",
       "    }\n",
       "\n",
       "    .dataframe tbody tr th {\n",
       "        vertical-align: top;\n",
       "    }\n",
       "\n",
       "    .dataframe thead th {\n",
       "        text-align: right;\n",
       "    }\n",
       "</style>\n",
       "<table border=\"1\" class=\"dataframe\">\n",
       "  <thead>\n",
       "    <tr style=\"text-align: right;\">\n",
       "      <th></th>\n",
       "      <th>Price</th>\n",
       "    </tr>\n",
       "  </thead>\n",
       "  <tbody>\n",
       "    <tr>\n",
       "      <th>0</th>\n",
       "      <td>27,928.9</td>\n",
       "    </tr>\n",
       "    <tr>\n",
       "      <th>1</th>\n",
       "      <td>28,424.8</td>\n",
       "    </tr>\n",
       "    <tr>\n",
       "      <th>2</th>\n",
       "      <td>28,857.1</td>\n",
       "    </tr>\n",
       "    <tr>\n",
       "      <th>3</th>\n",
       "      <td>29,513.2</td>\n",
       "    </tr>\n",
       "    <tr>\n",
       "      <th>4</th>\n",
       "      <td>28,842.1</td>\n",
       "    </tr>\n",
       "    <tr>\n",
       "      <th>...</th>\n",
       "      <td>...</td>\n",
       "    </tr>\n",
       "    <tr>\n",
       "      <th>4043</th>\n",
       "      <td>4.9</td>\n",
       "    </tr>\n",
       "    <tr>\n",
       "      <th>4044</th>\n",
       "      <td>4.9</td>\n",
       "    </tr>\n",
       "    <tr>\n",
       "      <th>4045</th>\n",
       "      <td>4.8</td>\n",
       "    </tr>\n",
       "    <tr>\n",
       "      <th>4046</th>\n",
       "      <td>4.9</td>\n",
       "    </tr>\n",
       "    <tr>\n",
       "      <th>4047</th>\n",
       "      <td>4.8</td>\n",
       "    </tr>\n",
       "  </tbody>\n",
       "</table>\n",
       "<p>4048 rows × 1 columns</p>\n",
       "</div>"
      ],
      "text/plain": [
       "         Price\n",
       "0     27,928.9\n",
       "1     28,424.8\n",
       "2     28,857.1\n",
       "3     29,513.2\n",
       "4     28,842.1\n",
       "...        ...\n",
       "4043       4.9\n",
       "4044       4.9\n",
       "4045       4.8\n",
       "4046       4.9\n",
       "4047       4.8\n",
       "\n",
       "[4048 rows x 1 columns]"
      ]
     },
     "execution_count": 2,
     "metadata": {},
     "output_type": "execute_result"
    }
   ],
   "source": [
    "df"
   ]
  },
  {
   "cell_type": "markdown",
   "metadata": {
    "id": "O6eihOhtKW7r"
   },
   "source": [
    "> 경우에 따라 `Price`와 같은 가격 데이터가 string 값으로 저장되어 있는 경우가 있다. 이는 exel에서 csv를 읽거나, exel에서 csv를 읽는 등의 경우에 의해 **소수점 이후의 일부 값이 자동으로 반올림 되는 상황**을 방지하기 위해 float을 string으로 저장한 경우에 해당한다.\n",
    "\n",
    "> Preprocessing: string to double"
   ]
  },
  {
   "cell_type": "code",
   "execution_count": null,
   "metadata": {
    "id": "MLNWqkWspJj7"
   },
   "outputs": [],
   "source": [
    "# time_stamps = pd.to_datetime(time_stamps, format=\"%b %d, %Y\")"
   ]
  },
  {
   "cell_type": "code",
   "execution_count": 3,
   "metadata": {
    "colab": {
     "base_uri": "https://localhost:8080/"
    },
    "id": "R_cA232co7Zy",
    "outputId": "1c78d122-0332-4742-d779-632165167aa1",
    "tags": []
   },
   "outputs": [
    {
     "data": {
      "text/plain": [
       "0       May 08, 2023\n",
       "1       May 07, 2023\n",
       "2       May 06, 2023\n",
       "3       May 05, 2023\n",
       "4       May 04, 2023\n",
       "            ...     \n",
       "4043    Apr 12, 2012\n",
       "4044    Apr 11, 2012\n",
       "4045    Apr 10, 2012\n",
       "4046    Apr 09, 2012\n",
       "4047    Apr 08, 2012\n",
       "Name: Date, Length: 4048, dtype: object"
      ]
     },
     "execution_count": 3,
     "metadata": {},
     "output_type": "execute_result"
    }
   ],
   "source": [
    "time_stamps"
   ]
  },
  {
   "cell_type": "code",
   "execution_count": 4,
   "metadata": {
    "id": "6qruozaAoWGL",
    "tags": []
   },
   "outputs": [],
   "source": [
    "df['Price'] = df['Price'].str.replace(',', '').astype(float)"
   ]
  },
  {
   "cell_type": "code",
   "execution_count": 5,
   "metadata": {
    "colab": {
     "base_uri": "https://localhost:8080/"
    },
    "id": "OoYrpA0AnBus",
    "outputId": "0edabdab-6dd9-4cce-8155-026f807416b6",
    "tags": []
   },
   "outputs": [
    {
     "data": {
      "text/plain": [
       "Price    float64\n",
       "dtype: object"
      ]
     },
     "execution_count": 5,
     "metadata": {},
     "output_type": "execute_result"
    }
   ],
   "source": [
    "df.dtypes"
   ]
  },
  {
   "cell_type": "markdown",
   "metadata": {
    "id": "-DDSdSUaTbfn"
   },
   "source": [
    "#### H5 사용하기\n",
    "아래는 PastSampler를 통해 `.csv`데이터를 `h5`데이터로 변환하는 과정이다.\n",
    "- `h5`로 저장하면 모델을 학습시키는 도중에 문제가 발생하더라도 중단 지점부터 다시 시작할 수 있다.\n",
    "- "
   ]
  },
  {
   "cell_type": "code",
   "execution_count": 6,
   "metadata": {
    "id": "fBhbayGvG6PR",
    "tags": []
   },
   "outputs": [],
   "source": [
    "# file_name='bitcoin2015to2017_close.h5'\n",
    "file_name='bitcoin2012to2023_close.h5'\n",
    "\n",
    "from sklearn.preprocessing import MinMaxScaler\n",
    "scaler = MinMaxScaler()\n",
    "# normalization: 하나씩\n",
    "for c in columns:\n",
    "  df[c] = scaler.fit_transform(df[c].values.reshape(-1,1))\n",
    "\n",
    "# normalization: 전체\n",
    "# df_normalized = pd.DataFrame(scaler.fit_transform(df), columns=df.columns)"
   ]
  },
  {
   "cell_type": "code",
   "execution_count": 7,
   "metadata": {
    "id": "BmovJDFkdRsa",
    "tags": []
   },
   "outputs": [],
   "source": [
    "#Features are input sample dimensions(channels)\n",
    "A = np.array(df)[:,None,:]\n",
    "original_A = np.array(original_df)[:,None,:]\n",
    "time_stamps = np.array(time_stamps)[:,None,None]\n",
    "#Make samples of temporal sequences of pricing data (channel)\n",
    "# NPS, NFS = 24, 1  #Number of past and future samples: 24시간으로 1시간 예측\n",
    "NPS, NFS = 8, 1\n",
    "ps = PastSampler(NPS, NFS, sliding_window=True)\n",
    "B, Y = ps.transform(A)\n",
    "input_times, output_times = ps.transform(time_stamps)\n",
    "original_B, original_Y = ps.transform(original_A)"
   ]
  },
  {
   "cell_type": "code",
   "execution_count": 8,
   "metadata": {
    "id": "i6UpXk2Te8v7",
    "tags": []
   },
   "outputs": [],
   "source": [
    "import h5py\n",
    "with h5py.File(file_name, 'w') as f:\n",
    "    f.create_dataset(\"inputs\", data = B)\n",
    "    f.create_dataset('outputs', data = Y)\n",
    "    f.create_dataset(\"input_times\", data = input_times)\n",
    "    f.create_dataset('output_times', data = output_times)\n",
    "    f.create_dataset(\"original_datas\", data=np.array(original_df))\n",
    "    f.create_dataset('original_inputs',data=original_B)\n",
    "    f.create_dataset('original_outputs',data=original_Y)"
   ]
  },
  {
   "cell_type": "code",
   "execution_count": 9,
   "metadata": {
    "colab": {
     "base_uri": "https://localhost:8080/"
    },
    "id": "k62i-H-tfEUL",
    "outputId": "39db50f9-8819-42ca-ef7c-7d2150a55e47",
    "tags": []
   },
   "outputs": [
    {
     "data": {
      "text/plain": [
       "(449, 8, 1)"
      ]
     },
     "execution_count": 9,
     "metadata": {},
     "output_type": "execute_result"
    }
   ],
   "source": [
    "B.shape"
   ]
  },
  {
   "cell_type": "markdown",
   "metadata": {
    "id": "vwxTT0xMI0KQ"
   },
   "source": [
    "---\n",
    "### Building Models\n",
    "\n",
    "#### 1. CNN(Conv1D)\n",
    "> 에러메시지: \\\n",
    "> ValueError: Unexpected result of `train_function` (Empty logs). Please use `Model.compile(..., run_eagerly=True)`, or `tf.config.run_functions_eagerly(True)` for more information of where went wrong, or file a issue/bug to `tf.keras`.\n",
    "\n",
    "위 에러메시지는 `batch_size`를 매개변수로 초기화 하지 않았거나, Conv 데이터 모양이 일치하지 않아 발생하는 문제.\n",
    "\n",
    "**해결**: api를 사용하지 않고 2018년도부터 2023년까지 1시간 단위 데이터가 있는 csv를 바로 사용(기존 api는 기간 제한이 있었음.)\n",
    "\n",
    "> _Output Time Steps = (Input Time Steps - Kernel Size) / Strides + 1_"
   ]
  },
  {
   "cell_type": "code",
   "execution_count": 10,
   "metadata": {
    "id": "kY89b2whfVP6",
    "tags": []
   },
   "outputs": [
    {
     "name": "stdout",
     "output_type": "stream",
     "text": [
      "WARNING:tensorflow:From D:\\works\\time-series-da\\venv\\Lib\\site-packages\\tensorflow\\python\\compat\\v2_compat.py:107: disable_resource_variables (from tensorflow.python.ops.variable_scope) is deprecated and will be removed in a future version.\n",
      "Instructions for updating:\n",
      "non-resource variables are not supported in the long term\n",
      "WARNING:tensorflow:From C:\\Users\\SW\\AppData\\Local\\Temp\\ipykernel_4876\\943764229.py:33: The name tf.keras.backend.set_session is deprecated. Please use tf.compat.v1.keras.backend.set_session instead.\n",
      "\n"
     ]
    }
   ],
   "source": [
    "from keras import applications\n",
    "from keras.models import Sequential\n",
    "from keras.models import Model\n",
    "from keras.layers import Dropout, Flatten, Dense, Activation\n",
    "from keras.callbacks import CSVLogger\n",
    "import tensorflow as tf\n",
    "from imageio import imread\n",
    "import numpy as np\n",
    "import random\n",
    "from keras.layers import LSTM\n",
    "from keras.layers import Conv1D, MaxPooling1D\n",
    "from keras import backend as K\n",
    "import keras\n",
    "from keras.callbacks import CSVLogger, ModelCheckpoint\n",
    "from keras import optimizers\n",
    "import h5py\n",
    "from sklearn.preprocessing import MinMaxScaler\n",
    "import os\n",
    "import pandas as pd\n",
    "import tensorflow.compat.v1 as tf\n",
    "tf.disable_v2_behavior()\n",
    "\n",
    "import matplotlib.pyplot as plt\n",
    "plt.switch_backend('agg')\n",
    "os.environ['TF_FORCE_GPU_ALLOW_GROWTH'] = 'True'\n",
    "os.environ['CUDA_DEVICE_ORDER'] = 'PCI_BUS_ID'\n",
    "os.environ['CUDA_VISIBLE_DEVICES'] = '1'\n",
    "os.environ['TF_CPP_MIN_LOG_LEVEL']='2'\n",
    "\n",
    "config = tf.compat.v1.ConfigProto()\n",
    "config.gpu_options.allow_growth = True\n",
    "sess = tf.compat.v1.Session(config=config)\n",
    "tf.compat.v1.keras.backend.set_session(sess)\n",
    "\n",
    "with h5py.File(''.join(['bitcoin2012to2023_close.h5']), 'r') as hf:\n",
    "    datas = hf['inputs'][()]\n",
    "    labels = hf['outputs'][()]\n",
    "    input_times = hf['input_times'][()]\n",
    "    output_times = hf['output_times'][()]\n",
    "    original_datas = hf['original_datas'][()]\n",
    "    original_outputs = hf['original_outputs'][()]"
   ]
  },
  {
   "cell_type": "code",
   "execution_count": 11,
   "metadata": {
    "id": "aGhHdBdIf-jW",
    "tags": []
   },
   "outputs": [],
   "source": [
    "scaler=MinMaxScaler()\n",
    "#split training validation\n",
    "training_size = int(0.8* datas.shape[0])\n",
    "training_datas = datas[:training_size,:]\n",
    "training_labels = labels[:training_size,:]\n",
    "validation_datas = datas[training_size:,:]\n",
    "validation_labels = labels[training_size:,:]\n",
    "ground_true = original_outputs[training_size:,:]"
   ]
  },
  {
   "cell_type": "code",
   "execution_count": 12,
   "metadata": {
    "id": "y-zJf_bvgCFg",
    "tags": []
   },
   "outputs": [],
   "source": [
    "step_size = datas.shape[1]\n",
    "batch_size= 32\n",
    "nb_features = datas.shape[2]\n",
    "epochs = 100"
   ]
  },
  {
   "cell_type": "code",
   "execution_count": 13,
   "metadata": {
    "id": "HBWpIZI5kbIz",
    "tags": []
   },
   "outputs": [],
   "source": [
    "# model.add(Conv1D(filters=2, padding='same', kernel_size=8, activation='relu', input_shape=(step_size, nb_features)))\n",
    "# model.add(Conv1D(filters=2, padding='same', kernel_size=8, activation='relu'))\n",
    "# model.add(Dropout(0.05))\n",
    "# model.add(Flatten())\n",
    "# model.add(Dense(100, activation='relu'))\n",
    "# model.compile(optimizer='adam', loss='mse')"
   ]
  },
  {
   "cell_type": "markdown",
   "metadata": {
    "id": "CF0STkF4osY2"
   },
   "source": [
    "> loss와 val_loss 확인 시, 일반화가 낮아 loss와 val_loss가 수렴하지 않으므로, 모델의 복잡도가 낮은 버전 활용"
   ]
  },
  {
   "cell_type": "code",
   "execution_count": 14,
   "metadata": {
    "id": "oLvkdEdqJCGx",
    "tags": []
   },
   "outputs": [],
   "source": [
    "#build model\n",
    "model = Sequential()\n",
    "model.add(Conv1D(activation=\"relu\", input_shape=(step_size, nb_features), strides=3\t, filters=8, kernel_size=8))\n",
    "# model.add(Dropout(0.05))\n",
    "model.add(Conv1D( strides=4, padding='same', filters=nb_features, kernel_size=8))\n",
    "\n",
    "model.compile(loss='mse', optimizer='adam')\n"
   ]
  },
  {
   "cell_type": "code",
   "execution_count": 15,
   "metadata": {
    "colab": {
     "base_uri": "https://localhost:8080/"
    },
    "id": "-6vEs685gPJx",
    "outputId": "6aeed75c-65e6-42eb-e247-7da941e7ff4c",
    "tags": []
   },
   "outputs": [
    {
     "name": "stdout",
     "output_type": "stream",
     "text": [
      "Train on 359 samples, validate on 90 samples\n",
      "Epoch 1/100\n",
      " 32/359 [=>............................] - ETA: 0s - loss: 0.0508\n",
      "Epoch 1: saving model to weights_2012to2023\\2012to2023_BTC-USD-01-0.00012.hdf5\n",
      "359/359 [==============================] - 0s 507us/sample - loss: 0.0807 - val_loss: 1.2191e-04\n",
      "Epoch 2/100\n",
      " 32/359 [=>............................] - ETA: 0s - loss: 0.0975\n",
      "Epoch 2: saving model to weights_2012to2023\\2012to2023_BTC-USD-02-0.00055.hdf5\n",
      "359/359 [==============================] - 0s 153us/sample - loss: 0.0732 - val_loss: 5.4813e-04\n",
      "Epoch 3/100\n",
      " 32/359 [=>............................] - ETA: 0s - loss: 0.0544\n",
      "Epoch 3: saving model to weights_2012to2023\\2012to2023_BTC-USD-03-0.00124.hdf5\n"
     ]
    },
    {
     "name": "stderr",
     "output_type": "stream",
     "text": [
      "D:\\works\\time-series-da\\venv\\Lib\\site-packages\\keras\\engine\\training_v1.py:2335: UserWarning: `Model.state_updates` will be removed in a future version. This property should not be used in TensorFlow 2.0, as `updates` are applied automatically.\n",
      "  updates = self.state_updates\n"
     ]
    },
    {
     "name": "stdout",
     "output_type": "stream",
     "text": [
      "359/359 [==============================] - 0s 120us/sample - loss: 0.0652 - val_loss: 0.0012\n",
      "Epoch 4/100\n",
      " 32/359 [=>............................] - ETA: 0s - loss: 0.0533\n",
      "Epoch 4: saving model to weights_2012to2023\\2012to2023_BTC-USD-04-0.00211.hdf5\n",
      "359/359 [==============================] - 0s 111us/sample - loss: 0.0581 - val_loss: 0.0021\n",
      "Epoch 5/100\n",
      " 32/359 [=>............................] - ETA: 0s - loss: 0.0253\n",
      "Epoch 5: saving model to weights_2012to2023\\2012to2023_BTC-USD-05-0.00302.hdf5\n",
      "359/359 [==============================] - 0s 121us/sample - loss: 0.0511 - val_loss: 0.0030\n",
      "Epoch 6/100\n",
      " 32/359 [=>............................] - ETA: 0s - loss: 0.0532\n",
      "Epoch 6: saving model to weights_2012to2023\\2012to2023_BTC-USD-06-0.00382.hdf5\n",
      "359/359 [==============================] - 0s 149us/sample - loss: 0.0452 - val_loss: 0.0038\n",
      "Epoch 7/100\n",
      " 32/359 [=>............................] - ETA: 0s - loss: 0.0349\n",
      "Epoch 7: saving model to weights_2012to2023\\2012to2023_BTC-USD-07-0.00450.hdf5\n",
      "359/359 [==============================] - 0s 122us/sample - loss: 0.0393 - val_loss: 0.0045\n",
      "Epoch 8/100\n",
      " 32/359 [=>............................] - ETA: 0s - loss: 0.0193\n",
      "Epoch 8: saving model to weights_2012to2023\\2012to2023_BTC-USD-08-0.00483.hdf5\n",
      "359/359 [==============================] - 0s 111us/sample - loss: 0.0341 - val_loss: 0.0048\n",
      "Epoch 9/100\n",
      " 32/359 [=>............................] - ETA: 0s - loss: 0.0263\n",
      "Epoch 9: saving model to weights_2012to2023\\2012to2023_BTC-USD-09-0.00491.hdf5\n",
      "359/359 [==============================] - 0s 167us/sample - loss: 0.0294 - val_loss: 0.0049\n",
      "Epoch 10/100\n",
      " 32/359 [=>............................] - ETA: 0s - loss: 0.0502\n",
      "Epoch 10: saving model to weights_2012to2023\\2012to2023_BTC-USD-10-0.00493.hdf5\n",
      "359/359 [==============================] - 0s 131us/sample - loss: 0.0250 - val_loss: 0.0049\n",
      "Epoch 11/100\n",
      " 32/359 [=>............................] - ETA: 0s - loss: 0.0202\n",
      "Epoch 11: saving model to weights_2012to2023\\2012to2023_BTC-USD-11-0.00478.hdf5\n",
      "359/359 [==============================] - 0s 134us/sample - loss: 0.0207 - val_loss: 0.0048\n",
      "Epoch 12/100\n",
      " 32/359 [=>............................] - ETA: 0s - loss: 0.0115\n",
      "Epoch 12: saving model to weights_2012to2023\\2012to2023_BTC-USD-12-0.00434.hdf5\n",
      "359/359 [==============================] - 0s 165us/sample - loss: 0.0170 - val_loss: 0.0043\n",
      "Epoch 13/100\n",
      " 32/359 [=>............................] - ETA: 0s - loss: 0.0129\n",
      "Epoch 13: saving model to weights_2012to2023\\2012to2023_BTC-USD-13-0.00371.hdf5\n",
      "359/359 [==============================] - 0s 115us/sample - loss: 0.0139 - val_loss: 0.0037\n",
      "Epoch 14/100\n",
      " 32/359 [=>............................] - ETA: 0s - loss: 0.0135\n",
      "Epoch 14: saving model to weights_2012to2023\\2012to2023_BTC-USD-14-0.00297.hdf5\n",
      "359/359 [==============================] - 0s 210us/sample - loss: 0.0111 - val_loss: 0.0030\n",
      "Epoch 15/100\n",
      " 32/359 [=>............................] - ETA: 0s - loss: 0.0086\n",
      "Epoch 15: saving model to weights_2012to2023\\2012to2023_BTC-USD-15-0.00224.hdf5\n",
      "359/359 [==============================] - 0s 323us/sample - loss: 0.0088 - val_loss: 0.0022\n",
      "Epoch 16/100\n",
      " 32/359 [=>............................] - ETA: 0s - loss: 0.0058\n",
      "Epoch 16: saving model to weights_2012to2023\\2012to2023_BTC-USD-16-0.00159.hdf5\n",
      "359/359 [==============================] - 0s 109us/sample - loss: 0.0069 - val_loss: 0.0016\n",
      "Epoch 17/100\n",
      " 32/359 [=>............................] - ETA: 0s - loss: 0.0043\n",
      "Epoch 17: saving model to weights_2012to2023\\2012to2023_BTC-USD-17-0.00107.hdf5\n",
      "359/359 [==============================] - 0s 122us/sample - loss: 0.0053 - val_loss: 0.0011\n",
      "Epoch 18/100\n",
      " 32/359 [=>............................] - ETA: 0s - loss: 0.0017\n",
      "Epoch 18: saving model to weights_2012to2023\\2012to2023_BTC-USD-18-0.00070.hdf5\n",
      "359/359 [==============================] - 0s 131us/sample - loss: 0.0040 - val_loss: 6.9625e-04\n",
      "Epoch 19/100\n",
      " 32/359 [=>............................] - ETA: 0s - loss: 0.0017\n",
      "Epoch 19: saving model to weights_2012to2023\\2012to2023_BTC-USD-19-0.00043.hdf5\n",
      "359/359 [==============================] - 0s 105us/sample - loss: 0.0030 - val_loss: 4.3219e-04\n",
      "Epoch 20/100\n",
      " 32/359 [=>............................] - ETA: 0s - loss: 0.0014\n",
      "Epoch 20: saving model to weights_2012to2023\\2012to2023_BTC-USD-20-0.00026.hdf5\n",
      "359/359 [==============================] - 0s 162us/sample - loss: 0.0022 - val_loss: 2.5530e-04\n",
      "Epoch 21/100\n",
      " 32/359 [=>............................] - ETA: 0s - loss: 0.0021\n",
      "Epoch 21: saving model to weights_2012to2023\\2012to2023_BTC-USD-21-0.00015.hdf5\n",
      "359/359 [==============================] - 0s 114us/sample - loss: 0.0017 - val_loss: 1.5080e-04\n",
      "Epoch 22/100\n",
      " 32/359 [=>............................] - ETA: 0s - loss: 8.2328e-04\n",
      "Epoch 22: saving model to weights_2012to2023\\2012to2023_BTC-USD-22-0.00008.hdf5\n",
      "359/359 [==============================] - 0s 164us/sample - loss: 0.0013 - val_loss: 7.5565e-05\n",
      "Epoch 23/100\n",
      " 32/359 [=>............................] - ETA: 0s - loss: 7.1379e-04\n",
      "Epoch 23: saving model to weights_2012to2023\\2012to2023_BTC-USD-23-0.00004.hdf5\n",
      "359/359 [==============================] - 0s 130us/sample - loss: 9.6063e-04 - val_loss: 4.4307e-05\n",
      "Epoch 24/100\n",
      " 32/359 [=>............................] - ETA: 0s - loss: 6.2668e-04\n",
      "Epoch 24: saving model to weights_2012to2023\\2012to2023_BTC-USD-24-0.00002.hdf5\n",
      "359/359 [==============================] - 0s 145us/sample - loss: 7.5900e-04 - val_loss: 1.9974e-05\n",
      "Epoch 25/100\n",
      " 32/359 [=>............................] - ETA: 0s - loss: 8.9333e-04\n",
      "Epoch 25: saving model to weights_2012to2023\\2012to2023_BTC-USD-25-0.00001.hdf5\n",
      "359/359 [==============================] - 0s 153us/sample - loss: 6.1834e-04 - val_loss: 6.2187e-06\n",
      "Epoch 26/100\n",
      " 32/359 [=>............................] - ETA: 0s - loss: 7.4189e-04\n",
      "Epoch 26: saving model to weights_2012to2023\\2012to2023_BTC-USD-26-0.00000.hdf5\n",
      "359/359 [==============================] - 0s 206us/sample - loss: 5.3675e-04 - val_loss: 4.1899e-06\n",
      "Epoch 27/100\n",
      " 32/359 [=>............................] - ETA: 0s - loss: 9.5026e-04\n",
      "Epoch 27: saving model to weights_2012to2023\\2012to2023_BTC-USD-27-0.00000.hdf5\n",
      "359/359 [==============================] - 0s 240us/sample - loss: 4.5871e-04 - val_loss: 1.9929e-06\n",
      "Epoch 28/100\n",
      " 32/359 [=>............................] - ETA: 0s - loss: 0.0012\n",
      "Epoch 28: saving model to weights_2012to2023\\2012to2023_BTC-USD-28-0.00000.hdf5\n",
      "359/359 [==============================] - 0s 215us/sample - loss: 4.1774e-04 - val_loss: 3.6334e-06\n",
      "Epoch 29/100\n",
      " 32/359 [=>............................] - ETA: 0s - loss: 9.3467e-05\n",
      "Epoch 29: saving model to weights_2012to2023\\2012to2023_BTC-USD-29-0.00000.hdf5\n",
      "359/359 [==============================] - 0s 180us/sample - loss: 3.8482e-04 - val_loss: 2.7421e-06\n",
      "Epoch 30/100\n",
      " 32/359 [=>............................] - ETA: 0s - loss: 2.4126e-04\n",
      "Epoch 30: saving model to weights_2012to2023\\2012to2023_BTC-USD-30-0.00000.hdf5\n",
      "359/359 [==============================] - 0s 213us/sample - loss: 3.5394e-04 - val_loss: 7.7091e-07\n",
      "Epoch 31/100\n",
      " 32/359 [=>............................] - ETA: 0s - loss: 2.1571e-04\n",
      "Epoch 31: saving model to weights_2012to2023\\2012to2023_BTC-USD-31-0.00000.hdf5\n",
      "359/359 [==============================] - 0s 102us/sample - loss: 3.3298e-04 - val_loss: 1.5833e-06\n",
      "Epoch 32/100\n",
      " 32/359 [=>............................] - ETA: 0s - loss: 8.0087e-05\n",
      "Epoch 32: saving model to weights_2012to2023\\2012to2023_BTC-USD-32-0.00000.hdf5\n",
      "359/359 [==============================] - 0s 117us/sample - loss: 3.1757e-04 - val_loss: 4.9807e-07\n",
      "Epoch 33/100\n",
      " 32/359 [=>............................] - ETA: 0s - loss: 3.6248e-04\n",
      "Epoch 33: saving model to weights_2012to2023\\2012to2023_BTC-USD-33-0.00000.hdf5\n",
      "359/359 [==============================] - 0s 163us/sample - loss: 3.0557e-04 - val_loss: 3.9012e-07\n",
      "Epoch 34/100\n",
      " 32/359 [=>............................] - ETA: 0s - loss: 2.5332e-04\n",
      "Epoch 34: saving model to weights_2012to2023\\2012to2023_BTC-USD-34-0.00000.hdf5\n",
      "359/359 [==============================] - 0s 176us/sample - loss: 2.9794e-04 - val_loss: 9.3072e-07\n",
      "Epoch 35/100\n",
      " 32/359 [=>............................] - ETA: 0s - loss: 1.5535e-04\n",
      "Epoch 35: saving model to weights_2012to2023\\2012to2023_BTC-USD-35-0.00000.hdf5\n",
      "359/359 [==============================] - 0s 142us/sample - loss: 2.9120e-04 - val_loss: 8.3962e-07\n",
      "Epoch 36/100\n",
      " 32/359 [=>............................] - ETA: 0s - loss: 5.1357e-04\n",
      "Epoch 36: saving model to weights_2012to2023\\2012to2023_BTC-USD-36-0.00000.hdf5\n",
      "359/359 [==============================] - 0s 142us/sample - loss: 2.8873e-04 - val_loss: 6.9503e-07\n",
      "Epoch 37/100\n",
      " 32/359 [=>............................] - ETA: 0s - loss: 2.6422e-04\n",
      "Epoch 37: saving model to weights_2012to2023\\2012to2023_BTC-USD-37-0.00000.hdf5\n",
      "359/359 [==============================] - 0s 290us/sample - loss: 2.7953e-04 - val_loss: 1.5025e-06\n",
      "Epoch 38/100\n",
      " 32/359 [=>............................] - ETA: 0s - loss: 2.9948e-04\n",
      "Epoch 38: saving model to weights_2012to2023\\2012to2023_BTC-USD-38-0.00000.hdf5\n",
      "359/359 [==============================] - 0s 274us/sample - loss: 2.7957e-04 - val_loss: 5.0479e-07\n",
      "Epoch 39/100\n",
      " 32/359 [=>............................] - ETA: 0s - loss: 3.6975e-04\n",
      "Epoch 39: saving model to weights_2012to2023\\2012to2023_BTC-USD-39-0.00000.hdf5\n",
      "359/359 [==============================] - 0s 156us/sample - loss: 2.8480e-04 - val_loss: 7.4239e-07\n",
      "Epoch 40/100\n",
      " 32/359 [=>............................] - ETA: 0s - loss: 5.5569e-04\n",
      "Epoch 40: saving model to weights_2012to2023\\2012to2023_BTC-USD-40-0.00000.hdf5\n",
      "359/359 [==============================] - 0s 131us/sample - loss: 2.8186e-04 - val_loss: 9.2115e-07\n",
      "Epoch 41/100\n",
      " 32/359 [=>............................] - ETA: 0s - loss: 1.3552e-04\n",
      "Epoch 41: saving model to weights_2012to2023\\2012to2023_BTC-USD-41-0.00000.hdf5\n",
      "359/359 [==============================] - 0s 130us/sample - loss: 2.8006e-04 - val_loss: 1.7213e-06\n",
      "Epoch 42/100\n",
      " 32/359 [=>............................] - ETA: 0s - loss: 1.6704e-04\n",
      "Epoch 42: saving model to weights_2012to2023\\2012to2023_BTC-USD-42-0.00000.hdf5\n",
      "359/359 [==============================] - 0s 147us/sample - loss: 2.6982e-04 - val_loss: 7.4142e-07\n",
      "Epoch 43/100\n",
      " 32/359 [=>............................] - ETA: 0s - loss: 5.5400e-04\n",
      "Epoch 43: saving model to weights_2012to2023\\2012to2023_BTC-USD-43-0.00000.hdf5\n",
      "359/359 [==============================] - 0s 188us/sample - loss: 2.6503e-04 - val_loss: 6.1967e-07\n",
      "Epoch 44/100\n",
      " 32/359 [=>............................] - ETA: 0s - loss: 5.3112e-04\n",
      "Epoch 44: saving model to weights_2012to2023\\2012to2023_BTC-USD-44-0.00000.hdf5\n",
      "359/359 [==============================] - 0s 178us/sample - loss: 2.6799e-04 - val_loss: 3.9075e-07\n",
      "Epoch 45/100\n",
      " 32/359 [=>............................] - ETA: 0s - loss: 2.4508e-04\n",
      "Epoch 45: saving model to weights_2012to2023\\2012to2023_BTC-USD-45-0.00000.hdf5\n",
      "359/359 [==============================] - 0s 212us/sample - loss: 2.6137e-04 - val_loss: 4.8260e-07\n",
      "Epoch 46/100\n",
      " 32/359 [=>............................] - ETA: 0s - loss: 5.2069e-04\n",
      "Epoch 46: saving model to weights_2012to2023\\2012to2023_BTC-USD-46-0.00000.hdf5\n",
      "359/359 [==============================] - 0s 159us/sample - loss: 2.5857e-04 - val_loss: 9.1719e-07\n",
      "Epoch 47/100\n",
      " 32/359 [=>............................] - ETA: 0s - loss: 2.7367e-04\n",
      "Epoch 47: saving model to weights_2012to2023\\2012to2023_BTC-USD-47-0.00000.hdf5\n",
      "359/359 [==============================] - 0s 153us/sample - loss: 2.5957e-04 - val_loss: 6.5318e-07\n",
      "Epoch 48/100\n",
      " 32/359 [=>............................] - ETA: 0s - loss: 3.5162e-04\n",
      "Epoch 48: saving model to weights_2012to2023\\2012to2023_BTC-USD-48-0.00000.hdf5\n",
      "359/359 [==============================] - 0s 145us/sample - loss: 2.5811e-04 - val_loss: 4.2854e-07\n",
      "Epoch 49/100\n",
      " 32/359 [=>............................] - ETA: 0s - loss: 9.8284e-05\n",
      "Epoch 49: saving model to weights_2012to2023\\2012to2023_BTC-USD-49-0.00000.hdf5\n",
      "359/359 [==============================] - 0s 143us/sample - loss: 2.5822e-04 - val_loss: 4.8977e-07\n",
      "Epoch 50/100\n",
      " 32/359 [=>............................] - ETA: 0s - loss: 1.6110e-04\n",
      "Epoch 50: saving model to weights_2012to2023\\2012to2023_BTC-USD-50-0.00000.hdf5\n",
      "359/359 [==============================] - 0s 187us/sample - loss: 2.5648e-04 - val_loss: 5.1921e-07\n",
      "Epoch 51/100\n",
      " 32/359 [=>............................] - ETA: 0s - loss: 1.4098e-04\n",
      "Epoch 51: saving model to weights_2012to2023\\2012to2023_BTC-USD-51-0.00000.hdf5\n",
      "359/359 [==============================] - 0s 179us/sample - loss: 2.5964e-04 - val_loss: 9.7959e-07\n",
      "Epoch 52/100\n",
      " 32/359 [=>............................] - ETA: 0s - loss: 2.1286e-04\n",
      "Epoch 52: saving model to weights_2012to2023\\2012to2023_BTC-USD-52-0.00000.hdf5\n",
      "359/359 [==============================] - 0s 151us/sample - loss: 2.6163e-04 - val_loss: 3.8857e-07\n",
      "Epoch 53/100\n",
      " 32/359 [=>............................] - ETA: 0s - loss: 1.4818e-04\n",
      "Epoch 53: saving model to weights_2012to2023\\2012to2023_BTC-USD-53-0.00000.hdf5\n",
      "359/359 [==============================] - 0s 185us/sample - loss: 2.5788e-04 - val_loss: 1.1014e-06\n",
      "Epoch 54/100\n",
      " 32/359 [=>............................] - ETA: 0s - loss: 1.0371e-04\n",
      "Epoch 54: saving model to weights_2012to2023\\2012to2023_BTC-USD-54-0.00000.hdf5\n",
      "359/359 [==============================] - 0s 208us/sample - loss: 2.6095e-04 - val_loss: 3.9475e-07\n",
      "Epoch 55/100\n",
      " 32/359 [=>............................] - ETA: 0s - loss: 2.5200e-04\n",
      "Epoch 55: saving model to weights_2012to2023\\2012to2023_BTC-USD-55-0.00000.hdf5\n",
      "359/359 [==============================] - 0s 188us/sample - loss: 2.5743e-04 - val_loss: 5.0216e-07\n",
      "Epoch 56/100\n",
      " 32/359 [=>............................] - ETA: 0s - loss: 6.1288e-05\n",
      "Epoch 56: saving model to weights_2012to2023\\2012to2023_BTC-USD-56-0.00000.hdf5\n",
      "359/359 [==============================] - 0s 142us/sample - loss: 2.5536e-04 - val_loss: 3.9679e-07\n",
      "Epoch 57/100\n",
      " 32/359 [=>............................] - ETA: 0s - loss: 8.8600e-05\n",
      "Epoch 57: saving model to weights_2012to2023\\2012to2023_BTC-USD-57-0.00000.hdf5\n",
      "359/359 [==============================] - 0s 142us/sample - loss: 2.5330e-04 - val_loss: 4.6180e-07\n",
      "Epoch 58/100\n",
      " 32/359 [=>............................] - ETA: 0s - loss: 3.9218e-04\n",
      "Epoch 58: saving model to weights_2012to2023\\2012to2023_BTC-USD-58-0.00000.hdf5\n",
      "359/359 [==============================] - 0s 156us/sample - loss: 2.5732e-04 - val_loss: 3.7299e-07\n",
      "Epoch 59/100\n",
      " 32/359 [=>............................] - ETA: 0s - loss: 2.8536e-04\n",
      "Epoch 59: saving model to weights_2012to2023\\2012to2023_BTC-USD-59-0.00000.hdf5\n",
      "359/359 [==============================] - 0s 337us/sample - loss: 2.5271e-04 - val_loss: 4.7563e-07\n",
      "Epoch 60/100\n",
      " 32/359 [=>............................] - ETA: 0s - loss: 2.1575e-04\n",
      "Epoch 60: saving model to weights_2012to2023\\2012to2023_BTC-USD-60-0.00000.hdf5\n",
      "359/359 [==============================] - 0s 217us/sample - loss: 2.5075e-04 - val_loss: 4.0223e-07\n",
      "Epoch 61/100\n",
      " 32/359 [=>............................] - ETA: 0s - loss: 1.4264e-04\n",
      "Epoch 61: saving model to weights_2012to2023\\2012to2023_BTC-USD-61-0.00000.hdf5\n",
      "359/359 [==============================] - 0s 158us/sample - loss: 2.5541e-04 - val_loss: 4.0233e-07\n",
      "Epoch 62/100\n",
      " 32/359 [=>............................] - ETA: 0s - loss: 1.0951e-04\n",
      "Epoch 62: saving model to weights_2012to2023\\2012to2023_BTC-USD-62-0.00000.hdf5\n",
      "359/359 [==============================] - 0s 150us/sample - loss: 2.5167e-04 - val_loss: 9.3294e-07\n",
      "Epoch 63/100\n",
      " 32/359 [=>............................] - ETA: 0s - loss: 1.7330e-04\n",
      "Epoch 63: saving model to weights_2012to2023\\2012to2023_BTC-USD-63-0.00000.hdf5\n",
      "359/359 [==============================] - 0s 171us/sample - loss: 2.5007e-04 - val_loss: 1.3350e-06\n",
      "Epoch 64/100\n",
      " 32/359 [=>............................] - ETA: 0s - loss: 3.1592e-04\n",
      "Epoch 64: saving model to weights_2012to2023\\2012to2023_BTC-USD-64-0.00000.hdf5\n",
      "359/359 [==============================] - 0s 149us/sample - loss: 2.5357e-04 - val_loss: 5.4441e-07\n",
      "Epoch 65/100\n",
      " 32/359 [=>............................] - ETA: 0s - loss: 2.9641e-04\n",
      "Epoch 65: saving model to weights_2012to2023\\2012to2023_BTC-USD-65-0.00000.hdf5\n",
      "359/359 [==============================] - 0s 148us/sample - loss: 2.5005e-04 - val_loss: 8.8262e-07\n",
      "Epoch 66/100\n",
      " 32/359 [=>............................] - ETA: 0s - loss: 5.0285e-05\n",
      "Epoch 66: saving model to weights_2012to2023\\2012to2023_BTC-USD-66-0.00000.hdf5\n",
      "359/359 [==============================] - 0s 216us/sample - loss: 2.5445e-04 - val_loss: 5.3118e-07\n",
      "Epoch 67/100\n",
      " 32/359 [=>............................] - ETA: 0s - loss: 1.9183e-04\n",
      "Epoch 67: saving model to weights_2012to2023\\2012to2023_BTC-USD-67-0.00000.hdf5\n",
      "359/359 [==============================] - 0s 154us/sample - loss: 2.5054e-04 - val_loss: 8.1368e-07\n",
      "Epoch 68/100\n",
      " 32/359 [=>............................] - ETA: 0s - loss: 8.6984e-05\n",
      "Epoch 68: saving model to weights_2012to2023\\2012to2023_BTC-USD-68-0.00000.hdf5\n",
      "359/359 [==============================] - 0s 155us/sample - loss: 2.5549e-04 - val_loss: 3.9172e-07\n",
      "Epoch 69/100\n",
      " 32/359 [=>............................] - ETA: 0s - loss: 2.7015e-04\n",
      "Epoch 69: saving model to weights_2012to2023\\2012to2023_BTC-USD-69-0.00000.hdf5\n",
      "359/359 [==============================] - 0s 144us/sample - loss: 2.4867e-04 - val_loss: 5.5347e-07\n",
      "Epoch 70/100\n",
      " 32/359 [=>............................] - ETA: 0s - loss: 1.4921e-04\n",
      "Epoch 70: saving model to weights_2012to2023\\2012to2023_BTC-USD-70-0.00000.hdf5\n",
      "359/359 [==============================] - 0s 153us/sample - loss: 2.5083e-04 - val_loss: 3.8935e-07\n",
      "Epoch 71/100\n",
      " 32/359 [=>............................] - ETA: 0s - loss: 2.5658e-04\n",
      "Epoch 71: saving model to weights_2012to2023\\2012to2023_BTC-USD-71-0.00000.hdf5\n",
      "359/359 [==============================] - 0s 144us/sample - loss: 2.4710e-04 - val_loss: 5.5733e-07\n",
      "Epoch 72/100\n",
      " 32/359 [=>............................] - ETA: 0s - loss: 3.3262e-04\n",
      "Epoch 72: saving model to weights_2012to2023\\2012to2023_BTC-USD-72-0.00000.hdf5\n",
      "359/359 [==============================] - 0s 153us/sample - loss: 2.4631e-04 - val_loss: 4.5419e-07\n",
      "Epoch 73/100\n",
      " 32/359 [=>............................] - ETA: 0s - loss: 3.0011e-04\n",
      "Epoch 73: saving model to weights_2012to2023\\2012to2023_BTC-USD-73-0.00000.hdf5\n",
      "359/359 [==============================] - 0s 147us/sample - loss: 2.4660e-04 - val_loss: 3.6280e-07\n",
      "Epoch 74/100\n",
      " 32/359 [=>............................] - ETA: 0s - loss: 3.6194e-04\n",
      "Epoch 74: saving model to weights_2012to2023\\2012to2023_BTC-USD-74-0.00000.hdf5\n",
      "359/359 [==============================] - 0s 164us/sample - loss: 2.4876e-04 - val_loss: 4.7145e-07\n",
      "Epoch 75/100\n",
      " 32/359 [=>............................] - ETA: 0s - loss: 1.2164e-04\n",
      "Epoch 75: saving model to weights_2012to2023\\2012to2023_BTC-USD-75-0.00000.hdf5\n",
      "359/359 [==============================] - 0s 119us/sample - loss: 2.4595e-04 - val_loss: 3.7022e-07\n",
      "Epoch 76/100\n",
      " 32/359 [=>............................] - ETA: 0s - loss: 2.2623e-04\n",
      "Epoch 76: saving model to weights_2012to2023\\2012to2023_BTC-USD-76-0.00000.hdf5\n",
      "359/359 [==============================] - 0s 161us/sample - loss: 2.4868e-04 - val_loss: 6.6162e-07\n",
      "Epoch 77/100\n",
      " 32/359 [=>............................] - ETA: 0s - loss: 1.6191e-04\n",
      "Epoch 77: saving model to weights_2012to2023\\2012to2023_BTC-USD-77-0.00000.hdf5\n",
      "359/359 [==============================] - 0s 169us/sample - loss: 2.5097e-04 - val_loss: 5.2502e-07\n",
      "Epoch 78/100\n",
      " 32/359 [=>............................] - ETA: 0s - loss: 4.7106e-04\n",
      "Epoch 78: saving model to weights_2012to2023\\2012to2023_BTC-USD-78-0.00000.hdf5\n",
      "359/359 [==============================] - 0s 132us/sample - loss: 2.5796e-04 - val_loss: 5.5566e-07\n",
      "Epoch 79/100\n",
      " 32/359 [=>............................] - ETA: 0s - loss: 2.0513e-04\n",
      "Epoch 79: saving model to weights_2012to2023\\2012to2023_BTC-USD-79-0.00000.hdf5\n",
      "359/359 [==============================] - 0s 152us/sample - loss: 2.5208e-04 - val_loss: 8.6272e-07\n",
      "Epoch 80/100\n",
      " 32/359 [=>............................] - ETA: 0s - loss: 4.1193e-04\n",
      "Epoch 80: saving model to weights_2012to2023\\2012to2023_BTC-USD-80-0.00000.hdf5\n",
      "359/359 [==============================] - 0s 147us/sample - loss: 2.4756e-04 - val_loss: 1.3814e-06\n",
      "Epoch 81/100\n",
      " 32/359 [=>............................] - ETA: 0s - loss: 9.5496e-05\n",
      "Epoch 81: saving model to weights_2012to2023\\2012to2023_BTC-USD-81-0.00000.hdf5\n",
      "359/359 [==============================] - 0s 341us/sample - loss: 2.5526e-04 - val_loss: 1.5718e-06\n",
      "Epoch 82/100\n",
      " 32/359 [=>............................] - ETA: 0s - loss: 6.4947e-05\n",
      "Epoch 82: saving model to weights_2012to2023\\2012to2023_BTC-USD-82-0.00000.hdf5\n",
      "359/359 [==============================] - 0s 287us/sample - loss: 2.4394e-04 - val_loss: 1.7037e-06\n",
      "Epoch 83/100\n",
      " 32/359 [=>............................] - ETA: 0s - loss: 9.8039e-05\n",
      "Epoch 83: saving model to weights_2012to2023\\2012to2023_BTC-USD-83-0.00000.hdf5\n",
      "359/359 [==============================] - 0s 136us/sample - loss: 2.4505e-04 - val_loss: 4.2436e-07\n",
      "Epoch 84/100\n",
      " 32/359 [=>............................] - ETA: 0s - loss: 2.0037e-04\n",
      "Epoch 84: saving model to weights_2012to2023\\2012to2023_BTC-USD-84-0.00000.hdf5\n",
      "359/359 [==============================] - 0s 147us/sample - loss: 2.4546e-04 - val_loss: 4.4549e-07\n",
      "Epoch 85/100\n",
      " 32/359 [=>............................] - ETA: 0s - loss: 3.4675e-05\n",
      "Epoch 85: saving model to weights_2012to2023\\2012to2023_BTC-USD-85-0.00000.hdf5\n",
      "359/359 [==============================] - 0s 176us/sample - loss: 2.4269e-04 - val_loss: 2.1083e-06\n",
      "Epoch 86/100\n",
      " 32/359 [=>............................] - ETA: 0s - loss: 3.1756e-04\n",
      "Epoch 86: saving model to weights_2012to2023\\2012to2023_BTC-USD-86-0.00000.hdf5\n",
      "359/359 [==============================] - 0s 147us/sample - loss: 2.4592e-04 - val_loss: 4.6476e-07\n",
      "Epoch 87/100\n",
      " 32/359 [=>............................] - ETA: 0s - loss: 5.0520e-05\n",
      "Epoch 87: saving model to weights_2012to2023\\2012to2023_BTC-USD-87-0.00000.hdf5\n",
      "359/359 [==============================] - 0s 150us/sample - loss: 2.4227e-04 - val_loss: 3.6361e-07\n",
      "Epoch 88/100\n",
      " 32/359 [=>............................] - ETA: 0s - loss: 2.0997e-04\n",
      "Epoch 88: saving model to weights_2012to2023\\2012to2023_BTC-USD-88-0.00000.hdf5\n",
      "359/359 [==============================] - 0s 125us/sample - loss: 2.4117e-04 - val_loss: 5.3998e-07\n",
      "Epoch 89/100\n",
      " 32/359 [=>............................] - ETA: 0s - loss: 5.3944e-05\n",
      "Epoch 89: saving model to weights_2012to2023\\2012to2023_BTC-USD-89-0.00000.hdf5\n",
      "359/359 [==============================] - 0s 150us/sample - loss: 2.4398e-04 - val_loss: 4.2841e-07\n",
      "Epoch 90/100\n",
      " 32/359 [=>............................] - ETA: 0s - loss: 1.8494e-04\n",
      "Epoch 90: saving model to weights_2012to2023\\2012to2023_BTC-USD-90-0.00000.hdf5\n",
      "359/359 [==============================] - 0s 144us/sample - loss: 2.4255e-04 - val_loss: 3.5367e-07\n",
      "Epoch 91/100\n",
      " 32/359 [=>............................] - ETA: 0s - loss: 5.4251e-04\n",
      "Epoch 91: saving model to weights_2012to2023\\2012to2023_BTC-USD-91-0.00000.hdf5\n",
      "359/359 [==============================] - 0s 153us/sample - loss: 2.3927e-04 - val_loss: 3.6066e-07\n",
      "Epoch 92/100\n",
      " 32/359 [=>............................] - ETA: 0s - loss: 3.7236e-04\n",
      "Epoch 92: saving model to weights_2012to2023\\2012to2023_BTC-USD-92-0.00000.hdf5\n",
      "359/359 [==============================] - 0s 145us/sample - loss: 2.4012e-04 - val_loss: 4.8911e-07\n",
      "Epoch 93/100\n",
      " 32/359 [=>............................] - ETA: 0s - loss: 2.0115e-04\n",
      "Epoch 93: saving model to weights_2012to2023\\2012to2023_BTC-USD-93-0.00000.hdf5\n",
      "359/359 [==============================] - 0s 176us/sample - loss: 2.4179e-04 - val_loss: 4.2644e-07\n",
      "Epoch 94/100\n",
      " 32/359 [=>............................] - ETA: 0s - loss: 3.2498e-04\n",
      "Epoch 94: saving model to weights_2012to2023\\2012to2023_BTC-USD-94-0.00000.hdf5\n",
      "359/359 [==============================] - 0s 147us/sample - loss: 2.4553e-04 - val_loss: 1.5937e-06\n",
      "Epoch 95/100\n",
      " 32/359 [=>............................] - ETA: 0s - loss: 2.4804e-04\n",
      "Epoch 95: saving model to weights_2012to2023\\2012to2023_BTC-USD-95-0.00000.hdf5\n",
      "359/359 [==============================] - 0s 186us/sample - loss: 2.4531e-04 - val_loss: 8.2430e-07\n",
      "Epoch 96/100\n",
      " 32/359 [=>............................] - ETA: 0s - loss: 1.5180e-04\n",
      "Epoch 96: saving model to weights_2012to2023\\2012to2023_BTC-USD-96-0.00000.hdf5\n",
      "359/359 [==============================] - 0s 161us/sample - loss: 2.4328e-04 - val_loss: 1.2279e-06\n",
      "Epoch 97/100\n",
      " 32/359 [=>............................] - ETA: 0s - loss: 2.2439e-04\n",
      "Epoch 97: saving model to weights_2012to2023\\2012to2023_BTC-USD-97-0.00000.hdf5\n",
      "359/359 [==============================] - 0s 136us/sample - loss: 2.4075e-04 - val_loss: 4.0343e-07\n",
      "Epoch 98/100\n",
      " 32/359 [=>............................] - ETA: 0s - loss: 1.0612e-04\n",
      "Epoch 98: saving model to weights_2012to2023\\2012to2023_BTC-USD-98-0.00000.hdf5\n",
      "359/359 [==============================] - 0s 161us/sample - loss: 2.3662e-04 - val_loss: 5.3857e-07\n",
      "Epoch 99/100\n",
      " 32/359 [=>............................] - ETA: 0s - loss: 2.8331e-04\n",
      "Epoch 99: saving model to weights_2012to2023\\2012to2023_BTC-USD-99-0.00000.hdf5\n",
      "359/359 [==============================] - 0s 158us/sample - loss: 2.3832e-04 - val_loss: 3.9587e-07\n",
      "Epoch 100/100\n",
      " 32/359 [=>............................] - ETA: 0s - loss: 1.1639e-04\n",
      "Epoch 100: saving model to weights_2012to2023\\2012to2023_BTC-USD-100-0.00000.hdf5\n",
      "359/359 [==============================] - 0s 150us/sample - loss: 2.3776e-04 - val_loss: 3.6437e-07\n"
     ]
    }
   ],
   "source": [
    "output_file_name = '2012to2023_BTC-USD'\n",
    "\n",
    "history = model.fit(\n",
    "    training_datas,\n",
    "    training_labels,\n",
    "    verbose=1,\n",
    "    batch_size=batch_size,\n",
    "    validation_data=(validation_datas, validation_labels),\n",
    "    epochs=epochs,\n",
    "    callbacks=[\n",
    "        CSVLogger(output_file_name+'.csv', append=True),\n",
    "        ModelCheckpoint('weights_2012to2023/'+output_file_name+'-{epoch:02d}-{val_loss:.5f}.hdf5', monitor='val_loss', verbose=1, mode='min')\n",
    "    ]\n",
    ")"
   ]
  },
  {
   "cell_type": "code",
   "execution_count": 16,
   "metadata": {
    "colab": {
     "base_uri": "https://localhost:8080/",
     "height": 460
    },
    "id": "64ICxyY-bjZA",
    "outputId": "f427f671-db12-4e52-b39c-cacd1de3aea0",
    "tags": []
   },
   "outputs": [
    {
     "data": {
      "image/png": "[encoded data removed]",
      "text/plain": [
       "<Figure size 2000x1000 with 1 Axes>"
      ]
     },
     "metadata": {},
     "output_type": "display_data"
    }
   ],
   "source": [
    "%matplotlib inline\n",
    "plt.figure(figsize=(20,10))\n",
    "plt.plot(history.history['loss'])\n",
    "plt.plot(history.history['val_loss'])\n",
    "plt.title('Model loss')\n",
    "plt.ylabel('Loss')\n",
    "plt.xlabel('Epoch')\n",
    "plt.legend(['Train', 'Validation'], loc='upper left')\n",
    "plt.show()"
   ]
  },
  {
   "cell_type": "code",
   "execution_count": 17,
   "metadata": {
    "id": "mCbWMzU-qHqy",
    "tags": []
   },
   "outputs": [
    {
     "data": {
      "image/png": "[encoded data removed]",
      "text/plain": [
       "<Figure size 640x480 with 1 Axes>"
      ]
     },
     "metadata": {},
     "output_type": "display_data"
    }
   ],
   "source": [
    "import matplotlib.pyplot as plt\n",
    "\n",
    "# 학습과 검증 손실 추출\n",
    "train_loss = history.history['loss']\n",
    "val_loss = history.history['val_loss']\n",
    "\n",
    "# 손실 그래프 그리기\n",
    "epochs = range(1, len(train_loss) + 1)\n",
    "plt.plot(epochs, train_loss, 'bo', label='Training loss')\n",
    "plt.plot(epochs, val_loss, 'b', label='Validation loss')\n",
    "plt.title('Training and validation loss')\n",
    "plt.xlabel('Epochs')\n",
    "plt.ylabel('Loss')\n",
    "plt.legend()\n",
    "plt.show()"
   ]
  },
  {
   "cell_type": "markdown",
   "metadata": {
    "id": "YSsbZcHoxwfk"
   },
   "source": [
    "#### Result Plotting"
   ]
  },
  {
   "cell_type": "markdown",
   "metadata": {
    "id": "lub5QMlbtQva"
   },
   "source": []
  },
  {
   "cell_type": "code",
   "execution_count": 18,
   "metadata": {
    "id": "V2C-bxiVYL3H",
    "tags": []
   },
   "outputs": [],
   "source": [
    "# predicted = model.predict(validation_datas)\n",
    "# predicted_inverted = []"
   ]
  },
  {
   "cell_type": "code",
   "execution_count": 19,
   "metadata": {
    "id": "eAYWfQKPg5a8",
    "tags": []
   },
   "outputs": [],
   "source": [
    "# for i in range(original_datas.shape[1]):\n",
    "# \tscaler.fit((np.char.replace((original_datas[:,i].astype(str)), ',', '').astype(float)).reshape(-1,1))\n",
    "# \tpredicted_inverted.append(scaler.inverse_transform(predicted[:,:,i]))"
   ]
  },
  {
   "cell_type": "code",
   "execution_count": 20,
   "metadata": {
    "id": "7zmBLwVhYKVO",
    "tags": []
   },
   "outputs": [],
   "source": [
    "# ground_true = ground_true[:,:,0].reshape(-1)\n",
    "# output_times = output_times.reshape(-1)\n",
    "\n",
    "# predicted_inverted = np.array(predicted_inverted)[:,:,0].reshape(-1)"
   ]
  },
  {
   "cell_type": "code",
   "execution_count": 21,
   "metadata": {
    "id": "J91RTtiewPlZ",
    "tags": []
   },
   "outputs": [],
   "source": [
    "# from datetime import datetime\n",
    "# output_times_datetime = [datetime.strptime(ts.decode(), '%b %d, %Y') for ts in output_times]\n",
    "# # 변환된 값 확인\n",
    "# print(output_times_datetime)"
   ]
  },
  {
   "cell_type": "code",
   "execution_count": 22,
   "metadata": {
    "id": "RoelCXZqwbUh",
    "tags": []
   },
   "outputs": [],
   "source": [
    "# ground_true = np.array([float(y.decode().replace(',', '')) for y in ground_true])\n",
    "# ground_true"
   ]
  },
  {
   "cell_type": "code",
   "execution_count": 23,
   "metadata": {
    "id": "b6M2_QPs2Ajg",
    "tags": []
   },
   "outputs": [],
   "source": [
    "with h5py.File(''.join(['bitcoin2012to2023_close.h5']), 'r') as hf:\n",
    "    datas = hf['inputs'][()]\n",
    "    labels = hf['outputs'][()]\n",
    "    input_times = hf['input_times'][()]\n",
    "    output_times = hf['output_times'][()]\n",
    "    original_inputs = hf['original_inputs'][()]\n",
    "    original_outputs = hf['original_outputs'][()]\n",
    "    original_datas = hf['original_datas'][()]\n",
    "\n",
    "scaler=MinMaxScaler()\n",
    "#split training validation\n",
    "training_size = int(0.8* datas.shape[0])\n",
    "training_datas = datas[:training_size,:,:]\n",
    "training_labels = labels[:training_size,:,:]\n",
    "validation_datas = datas[training_size:,:,:]\n",
    "validation_labels = labels[training_size:,:,:]\n",
    "validation_original_outputs = original_outputs[training_size:,:,:]\n",
    "validation_original_inputs = original_inputs[training_size:,:,:]\n",
    "validation_input_times = input_times[training_size:,:,:]\n",
    "validation_output_times = output_times[training_size:,:,:]\n",
    "\n",
    "ground_true = np.append(validation_original_inputs,validation_original_outputs, axis=1)\n",
    "ground_true_times = np.append(validation_input_times,validation_output_times, axis=1)\n",
    "step_size = datas.shape[1]\n",
    "batch_size= 8\n",
    "nb_features = datas.shape[2]\n",
    "\n",
    "model = Sequential()\n",
    "\n",
    "#build model\n",
    "model = Sequential()\n",
    "model.add(Conv1D(activation=\"relu\", input_shape=(step_size, nb_features), strides=3\t, filters=8, kernel_size=8))\n",
    "# model.add(Dropout(0.05))\n",
    "model.add(Conv1D( strides=4, padding='same', filters=nb_features, kernel_size=8))\n",
    "# 가중치 적용: weights에 생성된 적절한 가중치 선택\n",
    "model.load_weights('weights_2012to2023/2012to2023_BTC-USD-80-0.00000.hdf5')\n",
    "model.compile(loss='mse', optimizer='adam')"
   ]
  },
  {
   "cell_type": "code",
   "execution_count": 24,
   "metadata": {
    "tags": []
   },
   "outputs": [
    {
     "ename": "NameError",
     "evalue": "name 'all_times' is not defined",
     "output_type": "error",
     "traceback": [
      "\u001b[1;31m---------------------------------------------\u001b[0m",
      "\u001b[1;31mNameError\u001b[0m   Traceback (most recent call last)",
      "Cell \u001b[1;32mIn[24], line 3\u001b[0m\n\u001b[0;32m      1\u001b[0m \u001b[38;5;66;03m#TODO: 일단 전체(original) 데이터 출력해보기\u001b[39;00m\n\u001b[0;32m      2\u001b[0m plt\u001b[38;5;241m.\u001b[39mfigure(figsize\u001b[38;5;241m=\u001b[39m(\u001b[38;5;241m20\u001b[39m,\u001b[38;5;241m10\u001b[39m))\n\u001b[1;32m----> 3\u001b[0m plt\u001b[38;5;241m.\u001b[39mplot(\u001b[43mall_times\u001b[49m, np\u001b[38;5;241m.\u001b[39mchar\u001b[38;5;241m.\u001b[39mreplace((all_original_values\u001b[38;5;241m.\u001b[39mastype(\u001b[38;5;28mstr\u001b[39m)), \u001b[38;5;124m'\u001b[39m\u001b[38;5;124m,\u001b[39m\u001b[38;5;124m'\u001b[39m, \u001b[38;5;124m'\u001b[39m\u001b[38;5;124m'\u001b[39m)\u001b[38;5;241m.\u001b[39mastype(\u001b[38;5;28mfloat\u001b[39m))\n\u001b[0;32m      4\u001b[0m plt\u001b[38;5;241m.\u001b[39mshow()\n",
      "\u001b[1;31mNameError\u001b[0m: name 'all_times' is not defined"
     ]
    },
    {
     "data": {
      "text/plain": [
       "<Figure size 2000x1000 with 0 Axes>"
      ]
     },
     "metadata": {},
     "output_type": "display_data"
    }
   ],
   "source": [
    "#TODO: 일단 전체(original) 데이터 출력해보기\n",
    "plt.figure(figsize=(20,10))\n",
    "plt.plot(all_times, np.char.replace((all_original_values.astype(str)), ',', '').astype(float))\n",
    "plt.show()"
   ]
  },
  {
   "cell_type": "code",
   "execution_count": 25,
   "metadata": {
    "collapsed": true,
    "jupyter": {
     "outputs_hidden": true
    },
    "tags": []
   },
   "outputs": [
    {
     "ename": "NameError",
     "evalue": "name 'predicted_inverted' is not defined",
     "output_type": "error",
     "traceback": [
      "\u001b[1;31m---------------------------------------------\u001b[0m",
      "\u001b[1;31mNameError\u001b[0m   Traceback (most recent call last)",
      "Cell \u001b[1;32mIn[25], line 6\u001b[0m\n\u001b[0;32m      3\u001b[0m plt\u001b[38;5;241m.\u001b[39mplot(original_df\u001b[38;5;241m.\u001b[39mindex, original_df[\u001b[38;5;124m'\u001b[39m\u001b[38;5;124mPrice\u001b[39m\u001b[38;5;124m'\u001b[39m], label\u001b[38;5;241m=\u001b[39m\u001b[38;5;124m'\u001b[39m\u001b[38;5;124mGround Truth\u001b[39m\u001b[38;5;124m'\u001b[39m)\n\u001b[0;32m      5\u001b[0m \u001b[38;5;66;03m# Plot validation data\u001b[39;00m\n\u001b[1;32m----> 6\u001b[0m plt\u001b[38;5;241m.\u001b[39mplot(validation_output_times, \u001b[43mpredicted_inverted\u001b[49m, label\u001b[38;5;241m=\u001b[39m\u001b[38;5;124m'\u001b[39m\u001b[38;5;124mValidation Prediction\u001b[39m\u001b[38;5;124m'\u001b[39m)\n\u001b[0;32m      8\u001b[0m \u001b[38;5;66;03m# Plot training data\u001b[39;00m\n\u001b[0;32m      9\u001b[0m train_output_times \u001b[38;5;241m=\u001b[39m pd\u001b[38;5;241m.\u001b[39mto_datetime(train_output_times\u001b[38;5;241m.\u001b[39mastype(\u001b[38;5;28mstr\u001b[39m)\u001b[38;5;241m.\u001b[39mreshape(\u001b[38;5;241m-\u001b[39m\u001b[38;5;241m1\u001b[39m), \u001b[38;5;28mformat\u001b[39m\u001b[38;5;241m=\u001b[39m\u001b[38;5;124m\"\u001b[39m\u001b[38;5;124m%\u001b[39m\u001b[38;5;124mb \u001b[39m\u001b[38;5;132;01m%d\u001b[39;00m\u001b[38;5;124m, \u001b[39m\u001b[38;5;124m%\u001b[39m\u001b[38;5;124mY\u001b[39m\u001b[38;5;124m\"\u001b[39m)\n",
      "\u001b[1;31mNameError\u001b[0m: name 'predicted_inverted' is not defined"
     ]
    },
    {
     "data": {
      "image/png": "[encoded data removed]",
      "text/plain": [
       "<Figure size 640x480 with 1 Axes>"
      ]
     },
     "metadata": {},
     "output_type": "display_data"
    }
   ],
   "source": [
    "#TODO: 전체 데이터와 학습데이터 함께 출력해보기\n",
    "# Plot original data\n",
    "plt.plot(original_df.index, original_df['Price'], label='Ground Truth')\n",
    "\n",
    "# Plot validation data\n",
    "plt.plot(validation_output_times, predicted_inverted, label='Validation Prediction')\n",
    "\n",
    "# Plot training data\n",
    "train_output_times = pd.to_datetime(train_output_times.astype(str).reshape(-1), format=\"%b %d, %Y\")\n",
    "train_output = model.predict(train_datas)\n",
    "train_predicted_inverted = []\n",
    "for i in range(original_datas.shape[1]):\n",
    "    scaler.fit((np.char.replace((original_datas[:,i].astype(str)), ',', '').astype(float)).reshape(-1,1))\n",
    "    train_predicted_inverted.append(scaler.inverse_transform(train_predicted[:,:,i]))\n",
    "train_predicted_inverted = np.array(train_predicted_inverted)[0,:,:].reshape(-1)\n",
    "plt.plot(train_output_times, train_predicted_inverted, label='Training Prediction')\n",
    "\n",
    "plt.legend()\n",
    "plt.show()"
   ]
  },
  {
   "cell_type": "code",
   "execution_count": 26,
   "metadata": {
    "colab": {
     "base_uri": "https://localhost:8080/"
    },
    "id": "JL0_MzxpLK7u",
    "outputId": "c541c3f5-fc1e-4274-f883-5082bd83397d",
    "tags": []
   },
   "outputs": [
    {
     "name": "stdout",
     "output_type": "stream",
     "text": [
      "(1, 90, 1)\n",
      "(90,)\n"
     ]
    },
    {
     "name": "stderr",
     "output_type": "stream",
     "text": [
      "D:\\works\\time-series-da\\venv\\Lib\\site-packages\\keras\\engine\\training_v1.py:2359: UserWarning: `Model.state_updates` will be removed in a future version. This property should not be used in TensorFlow 2.0, as `updates` are applied automatically.\n",
      "  updates=self.state_updates,\n"
     ]
    }
   ],
   "source": [
    "predicted = model.predict(validation_datas)\n",
    "predicted_inverted = []\n",
    "\n",
    "for i in range(original_datas.shape[1]):\n",
    "    scaler.fit((np.char.replace((original_datas[:,i].astype(str)), ',', '').astype(float)).reshape(-1,1))\n",
    "    predicted_inverted.append(scaler.inverse_transform(predicted[:,:,i]))\n",
    "print(np.array(predicted_inverted).shape)\n",
    "#get only the close data\n",
    "ground_true = ground_true.reshape(-1)\n",
    "ground_true_times = ground_true_times.reshape(-1)\n",
    "ground_true_times = pd.to_datetime(ground_true_times.astype(str), format=\"%b %d, %Y\")\n",
    "# since we are appending in the first dimension\n",
    "predicted_inverted = np.array(predicted_inverted)[0,:,:].reshape(-1)\n",
    "print(np.array(predicted_inverted).shape)\n",
    "validation_output_times = pd.to_datetime(validation_output_times.astype(str).reshape(-1), format=\"%b %d, %Y\")"
   ]
  },
  {
   "cell_type": "code",
   "execution_count": 27,
   "metadata": {
    "id": "InTgFPKiKtre",
    "tags": []
   },
   "outputs": [],
   "source": [
    "ground_true_df = pd.DataFrame()\n",
    "ground_true_df['times'] = ground_true_times\n",
    "ground_true_df['value'] = ground_true"
   ]
  },
  {
   "cell_type": "code",
   "execution_count": 28,
   "metadata": {
    "colab": {
     "base_uri": "https://localhost:8080/",
     "height": 423
    },
    "id": "mXxRRDf_QMwf",
    "outputId": "70127518-103c-4b9d-e49b-e98e55de1f0f",
    "tags": []
   },
   "outputs": [
    {
     "data": {
      "text/html": [
       "<div>\n",
       "<style scoped>\n",
       "    .dataframe tbody tr th:only-of-type {\n",
       "        vertical-align: middle;\n",
       "    }\n",
       "\n",
       "    .dataframe tbody tr th {\n",
       "        vertical-align: top;\n",
       "    }\n",
       "\n",
       "    .dataframe thead th {\n",
       "        text-align: right;\n",
       "    }\n",
       "</style>\n",
       "<table border=\"1\" class=\"dataframe\">\n",
       "  <thead>\n",
       "    <tr style=\"text-align: right;\">\n",
       "      <th></th>\n",
       "      <th>times</th>\n",
       "      <th>value</th>\n",
       "    </tr>\n",
       "  </thead>\n",
       "  <tbody>\n",
       "    <tr>\n",
       "      <th>0</th>\n",
       "      <td>2014-07-03</td>\n",
       "      <td>b'638.0'</td>\n",
       "    </tr>\n",
       "    <tr>\n",
       "      <th>1</th>\n",
       "      <td>2014-07-02</td>\n",
       "      <td>b'645.7'</td>\n",
       "    </tr>\n",
       "    <tr>\n",
       "      <th>2</th>\n",
       "      <td>2014-07-01</td>\n",
       "      <td>b'643.2'</td>\n",
       "    </tr>\n",
       "    <tr>\n",
       "      <th>3</th>\n",
       "      <td>2014-06-30</td>\n",
       "      <td>b'635.1'</td>\n",
       "    </tr>\n",
       "    <tr>\n",
       "      <th>4</th>\n",
       "      <td>2014-06-29</td>\n",
       "      <td>b'601.1'</td>\n",
       "    </tr>\n",
       "    <tr>\n",
       "      <th>...</th>\n",
       "      <td>...</td>\n",
       "      <td>...</td>\n",
       "    </tr>\n",
       "    <tr>\n",
       "      <th>805</th>\n",
       "      <td>2012-04-19</td>\n",
       "      <td>b'5.1'</td>\n",
       "    </tr>\n",
       "    <tr>\n",
       "      <th>806</th>\n",
       "      <td>2012-04-18</td>\n",
       "      <td>b'5.1'</td>\n",
       "    </tr>\n",
       "    <tr>\n",
       "      <th>807</th>\n",
       "      <td>2012-04-17</td>\n",
       "      <td>b'5.0'</td>\n",
       "    </tr>\n",
       "    <tr>\n",
       "      <th>808</th>\n",
       "      <td>2012-04-16</td>\n",
       "      <td>b'4.9'</td>\n",
       "    </tr>\n",
       "    <tr>\n",
       "      <th>809</th>\n",
       "      <td>2012-04-15</td>\n",
       "      <td>b'5.0'</td>\n",
       "    </tr>\n",
       "  </tbody>\n",
       "</table>\n",
       "<p>810 rows × 2 columns</p>\n",
       "</div>"
      ],
      "text/plain": [
       "         times     value\n",
       "0   2014-07-03  b'638.0'\n",
       "1   2014-07-02  b'645.7'\n",
       "2   2014-07-01  b'643.2'\n",
       "3   2014-06-30  b'635.1'\n",
       "4   2014-06-29  b'601.1'\n",
       "..         ...       ...\n",
       "805 2012-04-19    b'5.1'\n",
       "806 2012-04-18    b'5.1'\n",
       "807 2012-04-17    b'5.0'\n",
       "808 2012-04-16    b'4.9'\n",
       "809 2012-04-15    b'5.0'\n",
       "\n",
       "[810 rows x 2 columns]"
      ]
     },
     "execution_count": 28,
     "metadata": {},
     "output_type": "execute_result"
    }
   ],
   "source": [
    "ground_true_df"
   ]
  },
  {
   "cell_type": "code",
   "execution_count": 29,
   "metadata": {
    "id": "SxaDMPY56CCK",
    "tags": []
   },
   "outputs": [],
   "source": [
    "ground_true_df['value'] = ground_true_df['value'].apply(lambda x: float(x.decode('utf-8').replace(\",\", \"\")))\n"
   ]
  },
  {
   "cell_type": "code",
   "execution_count": 30,
   "metadata": {
    "colab": {
     "base_uri": "https://localhost:8080/",
     "height": 423
    },
    "id": "xaON4OUnQHcO",
    "outputId": "7dfd6479-5dd5-4eac-b0f8-f28aaec9c55e",
    "tags": []
   },
   "outputs": [
    {
     "data": {
      "text/html": [
       "<div>\n",
       "<style scoped>\n",
       "    .dataframe tbody tr th:only-of-type {\n",
       "        vertical-align: middle;\n",
       "    }\n",
       "\n",
       "    .dataframe tbody tr th {\n",
       "        vertical-align: top;\n",
       "    }\n",
       "\n",
       "    .dataframe thead th {\n",
       "        text-align: right;\n",
       "    }\n",
       "</style>\n",
       "<table border=\"1\" class=\"dataframe\">\n",
       "  <thead>\n",
       "    <tr style=\"text-align: right;\">\n",
       "      <th></th>\n",
       "      <th>times</th>\n",
       "      <th>value</th>\n",
       "    </tr>\n",
       "  </thead>\n",
       "  <tbody>\n",
       "    <tr>\n",
       "      <th>0</th>\n",
       "      <td>2014-06-25</td>\n",
       "      <td>671.435669</td>\n",
       "    </tr>\n",
       "    <tr>\n",
       "      <th>1</th>\n",
       "      <td>2014-06-16</td>\n",
       "      <td>667.083923</td>\n",
       "    </tr>\n",
       "    <tr>\n",
       "      <th>2</th>\n",
       "      <td>2014-06-07</td>\n",
       "      <td>698.660645</td>\n",
       "    </tr>\n",
       "    <tr>\n",
       "      <th>3</th>\n",
       "      <td>2014-05-29</td>\n",
       "      <td>699.732239</td>\n",
       "    </tr>\n",
       "    <tr>\n",
       "      <th>4</th>\n",
       "      <td>2014-05-20</td>\n",
       "      <td>594.220947</td>\n",
       "    </tr>\n",
       "    <tr>\n",
       "      <th>...</th>\n",
       "      <td>...</td>\n",
       "      <td>...</td>\n",
       "    </tr>\n",
       "    <tr>\n",
       "      <th>85</th>\n",
       "      <td>2012-05-21</td>\n",
       "      <td>73.226280</td>\n",
       "    </tr>\n",
       "    <tr>\n",
       "      <th>86</th>\n",
       "      <td>2012-05-12</td>\n",
       "      <td>73.121132</td>\n",
       "    </tr>\n",
       "    <tr>\n",
       "      <th>87</th>\n",
       "      <td>2012-05-03</td>\n",
       "      <td>73.243385</td>\n",
       "    </tr>\n",
       "    <tr>\n",
       "      <th>88</th>\n",
       "      <td>2012-04-24</td>\n",
       "      <td>73.117615</td>\n",
       "    </tr>\n",
       "    <tr>\n",
       "      <th>89</th>\n",
       "      <td>2012-04-15</td>\n",
       "      <td>73.211685</td>\n",
       "    </tr>\n",
       "  </tbody>\n",
       "</table>\n",
       "<p>90 rows × 2 columns</p>\n",
       "</div>"
      ],
      "text/plain": [
       "        times       value\n",
       "0  2014-06-25  671.435669\n",
       "1  2014-06-16  667.083923\n",
       "2  2014-06-07  698.660645\n",
       "3  2014-05-29  699.732239\n",
       "4  2014-05-20  594.220947\n",
       "..        ...         ...\n",
       "85 2012-05-21   73.226280\n",
       "86 2012-05-12   73.121132\n",
       "87 2012-05-03   73.243385\n",
       "88 2012-04-24   73.117615\n",
       "89 2012-04-15   73.211685\n",
       "\n",
       "[90 rows x 2 columns]"
      ]
     },
     "execution_count": 30,
     "metadata": {},
     "output_type": "execute_result"
    }
   ],
   "source": [
    "prediction_df = pd.DataFrame()\n",
    "prediction_df['times'] = validation_output_times\n",
    "prediction_df['value'] = predicted_inverted\n",
    "prediction_df"
   ]
  },
  {
   "cell_type": "code",
   "execution_count": 31,
   "metadata": {
    "id": "pU8b87yq6SIf",
    "tags": []
   },
   "outputs": [],
   "source": [
    "# prediction_df['value'] = prediction_df['value'].apply(lambda x: float(x.decode('utf-8').replace(\",\", \"\")))"
   ]
  },
  {
   "cell_type": "code",
   "execution_count": 32,
   "metadata": {
    "colab": {
     "base_uri": "https://localhost:8080/",
     "height": 443
    },
    "id": "tsK4jY58SCOX",
    "outputId": "8eb7b7b5-f5fd-436d-e10e-b0e3c06ae60c",
    "tags": []
   },
   "outputs": [
    {
     "data": {
      "image/png": "[encoded data removed]",
      "text/plain": [
       "<Figure size 2000x1000 with 1 Axes>"
      ]
     },
     "metadata": {},
     "output_type": "display_data"
    }
   ],
   "source": [
    "%matplotlib inline\n",
    "plt.figure(figsize=(20,10))\n",
    "plt.plot(ground_true_df.times,ground_true_df.value, label = 'Actual')\n",
    "plt.plot(prediction_df.times,prediction_df.value,'ro', label='Predicted')\n",
    "plt.legend(loc='upper left')\n",
    "plt.show()"
   ]
  },
  {
   "cell_type": "code",
   "execution_count": null,
   "metadata": {
    "colab": {
     "base_uri": "https://localhost:8080/",
     "height": 452
    },
    "id": "yRpMHmqvG8f2",
    "outputId": "ec7e9258-1244-418a-e4df-90deca1f6d31"
   },
   "outputs": [],
   "source": [
    "# 1. df 내 값들을 하루에 하나로 resample\n",
    "%matplotlib inline\n",
    "prediction_df.set_index('times', inplace=True)\n",
    "ground_true_df.set_index('times', inplace=True)\n",
    "\n",
    "# prediction_df.index = pd.to_datetime(prediction_df.index)\n",
    "# ground_true_df.index = pd.to_datetime(ground_true_df.index)\n",
    "\n",
    "prediction_df = prediction_df.resample('D').last()\n",
    "ground_true_df = ground_true_df.resample('D').last()\n",
    "\n",
    "plt.figure(figsize=(20,10))\n",
    "plt.plot(ground_true_df.index,ground_true_df.value, label = 'Actual')\n",
    "plt.plot(prediction_df.index,prediction_df.value,'ro', label='Predicted')\n",
    "plt.legend(loc='upper left')\n",
    "# plt.savefig('result_2018to2023/bitcoin2018to2023_close_CNN_2_relu_result.png')\n",
    "plt.show()"
   ]
  },
  {
   "cell_type": "code",
   "execution_count": null,
   "metadata": {
    "colab": {
     "base_uri": "https://localhost:8080/",
     "height": 452
    },
    "id": "n4iu1r8YB_rV",
    "outputId": "f5efb9b4-0155-4f2d-f53d-17f5fca1d7cd"
   },
   "outputs": [],
   "source": [
    "# 2. df 내 모든 값 표시\n",
    "prediction_df = prediction_df.loc[(prediction_df[\"times\"] >= \"2012-05-15\") ]\n",
    "ground_true_df = ground_true_df.loc[(ground_true_df[\"times\"] >= \"2012-05-15\")]\n",
    "\n",
    "plt.figure(figsize=(20,10))\n",
    "plt.plot(ground_true_df.times,ground_true_df.value, label = 'Actual')\n",
    "plt.plot(prediction_df.times,prediction_df.value,'ro', label='Predicted')\n",
    "plt.legend(loc='upper left')\n",
    "# plt.savefig('result_2018to2023/bitcoin2018to2023_close_CNN_2_relu_result.png')\n",
    "plt.show()"
   ]
  },
  {
   "cell_type": "code",
   "execution_count": null,
   "metadata": {
    "colab": {
     "base_uri": "https://localhost:8080/"
    },
    "id": "A_BramWsCBJd",
    "outputId": "47cc20d4-d76a-46ee-fbcf-65558a82700b"
   },
   "outputs": [],
   "source": [
    "from sklearn.metrics import mean_squared_error\n",
    "mean_squared_error(validation_original_outputs[:,:,0].reshape(-1),predicted_inverted)"
   ]
  },
  {
   "cell_type": "code",
   "execution_count": null,
   "metadata": {},
   "outputs": [],
   "source": [
    "# 그래프 출력\n",
    "# plt.figure(figsize=(20,10))\n",
    "# plt.plot(all_times, all_original_values, label='Actual')\n",
    "# plt.legend(loc='upper left')\n",
    "# plt.show()"
   ]
  },
  {
   "cell_type": "code",
   "execution_count": null,
   "metadata": {},
   "outputs": [],
   "source": [
    "output_times"
   ]
  }
 ],
 "metadata": {
  "accelerator": "GPU",
  "colab": {
   "authorship_tag": "ABX9TyMpNobSqGMsm6+kO4LODD7F",
   "gpuType": "T4",
   "include_colab_link": true,
   "mount_file_id": "17ZE5htR9MNkKX3xQPjtiC2_LsvHfGVW5",
   "provenance": []
  },
  "gpuClass": "standard",
  "kernelspec": {
   "display_name": "Python 3 (ipykernel)",
   "language": "python",
   "name": "python3"
  },
  "language_info": {
   "codemirror_mode": {
    "name": "ipython",
    "version": 3
   },
   "file_extension": ".py",
   "mimetype": "text/x-python",
   "name": "python",
   "nbconvert_exporter": "python",
   "pygments_lexer": "ipython3",
   "version": "3.11.3"
  }
 },
 "nbformat": 4,
 "nbformat_minor": 4
}
