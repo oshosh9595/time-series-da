{
  "cells": [
    {
      "attachments": {},
      "cell_type": "markdown",
      "metadata": {
        "colab_type": "text",
        "id": "view-in-github"
      },
      "source": [
        "<a href=\"https://colab.research.google.com/github/young1ll/time-series-da/blob/main/notebook/BTCUSD_cnn.ipynb\" target=\"_parent\"><img src=\"https://colab.research.google.com/assets/colab-badge.svg\" alt=\"Open In Colab\"/></a>"
      ]
    },
    {
      "attachments": {},
      "cell_type": "markdown",
      "metadata": {
        "id": "IPS6BiPuER1A"
      },
      "source": [
        "# Predicting Cryptocurrency Price With Tensorflow and Keras\n",
        "\n",
        "- python v3.11.0\n",
        "\n",
        "## References\n",
        "- https://medium.com/@huangkh19951228/predicting-cryptocurrency-price-with-tensorflow-and-keras-e1674b0dc58a\n",
        "- https://github.com/khuangaf/CryptocurrencyPrediction/tree/master"
      ]
    },
    {
      "attachments": {},
      "cell_type": "markdown",
      "metadata": {},
      "source": [
        "#### getting started(from git repo)\n",
        "1. [Test] Daily"
      ]
    },
    {
      "cell_type": "code",
      "execution_count": null,
      "metadata": {
        "id": "txIWsakiH2VW"
      },
      "outputs": [],
      "source": [
        "# # 해당 경로 제거\n",
        "# import shutil\n",
        "# shutil.rmtree('/content/weights_2018to2023')"
      ]
    },
    {
      "attachments": {},
      "cell_type": "markdown",
      "metadata": {
        "id": "Fk2blgu6EirT"
      },
      "source": [
        "### 데이터 수집\n",
        "- JSONtoCSV\n",
        "- csv를 바로 직접 사용한다면 아래 과정 pass"
      ]
    },
    {
      "cell_type": "code",
      "execution_count": null,
      "metadata": {
        "id": "Hy64InutD_hx"
      },
      "outputs": [],
      "source": [
        "import json\n",
        "import numpy as np\n",
        "import os\n",
        "import pandas as pd\n",
        "# import urllib2\n",
        "import urllib.request\n",
        "\n",
        "# connect to poloniex's API\n",
        "# url = 'https://poloniex.com/public?command=returnChartData&currencyPair=USDT_BTC&start=1356998100&end=9999999999&period=300'\n",
        "\n",
        "# parse json returned from the API to Pandas DF\n",
        "# openUrl = urllib.request.urlopen(url)\n",
        "# r = openUrl.read()\n",
        "# openUrl.close()\n",
        "# d = json.loads(r.decode())\n",
        "# df = pd.DataFrame(d)\n",
        "\n",
        "# original_columns=[u'close', u'date', u'high', u'low', u'open']\n",
        "# new_columns = ['Close','Timestamp','High','Low','Open']\n",
        "# df = df.loc[:,original_columns]\n",
        "# df.columns = new_columns\n",
        "# df.to_csv('data/bitcoin2015to2017.csv',index=None)"
      ]
    },
    {
      "cell_type": "code",
      "execution_count": null,
      "metadata": {
        "id": "9cDS_ihi3J_d"
      },
      "outputs": [],
      "source": []
    },
    {
      "attachments": {},
      "cell_type": "markdown",
      "metadata": {
        "id": "zN3035jdF654"
      },
      "source": [
        "### 전처리"
      ]
    },
    {
      "attachments": {},
      "cell_type": "markdown",
      "metadata": {
        "id": "pl4JmoQSG_P4"
      },
      "source": [
        "### PastSampler\n",
        "> 데이터 스케일링"
      ]
    },
    {
      "cell_type": "code",
      "execution_count": null,
      "metadata": {
        "id": "YUKDLVkrEfuh"
      },
      "outputs": [],
      "source": [
        "import numpy as np\n",
        "import pandas as pd\n",
        " \n",
        "class PastSampler:\n",
        "    '''\n",
        "    Forms training samples for predicting future values from past value\n",
        "    '''\n",
        "     \n",
        "    def __init__(self, N, K, sliding_window = True):\n",
        "        '''\n",
        "        Predict K future sample using N previous samples\n",
        "        '''\n",
        "        self.K = K\n",
        "        self.N = N\n",
        "        self.sliding_window = sliding_window\n",
        " \n",
        "    def transform(self, A):\n",
        "        M = self.N + self.K     #Number of samples per row (sample + target)\n",
        "        #indexes\n",
        "        I = np.arange(M) + np.arange(0, A.shape[0] - M + self.sliding_window, M).reshape(-1, 1)\n",
        "            \n",
        "        B = A[I].reshape(-1, M * A.shape[1], A.shape[2])\n",
        "        ci = self.N * A.shape[1]    #Number of features per sample\n",
        "        return B[:, :ci], B[:, ci:] #Sample matrix, Target matrix\n",
        "\n",
        "#data file path\n",
        "# dfp = 'data/bitcoin2015to2017.csv'\n",
        "# dfp = 'data/Bitstamp_BTCUSD_1h.csv' # 2018-05-15 to 2023-05-08\n",
        "dfp = 'https://raw.githubusercontent.com/young1ll/time-series-da/main/data/2012to2023BTC-USD_investing.csv' # 2018-05-15 to 2023-05-08\n",
        "# [unix, date, symbol, open, high, low, close, Volume BTC, Volume USD]\n",
        "\n",
        "#Columns of price data to use\n",
        "columns = ['Price']\n",
        "df = pd.read_csv(dfp)\n",
        "time_stamps = df['Date']\n",
        "df = df.loc[:,columns]\n",
        "original_df = pd.read_csv(dfp).loc[:,columns]"
      ]
    },
    {
      "cell_type": "code",
      "execution_count": null,
      "metadata": {
        "colab": {
          "base_uri": "https://localhost:8080/",
          "height": 423
        },
        "id": "IwaCZrR0GgBJ",
        "outputId": "184c517d-dbd4-4c5b-b5bd-083fe12f0290"
      },
      "outputs": [],
      "source": [
        "df"
      ]
    },
    {
      "attachments": {},
      "cell_type": "markdown",
      "metadata": {
        "id": "O6eihOhtKW7r"
      },
      "source": [
        "> 경우에 따라 `Price`와 같은 가격 데이터가 string 값으로 저장되어 있는 경우가 있다. 이는 exel에서 csv를 읽거나, exel에서 csv를 읽는 등의 경우에 의해 **소수점 이후의 일부 값이 자동으로 반올림 되는 상황**을 방지하기 위해 float을 string으로 저장한 경우에 해당한다.\n",
        "\n",
        "> Preprocessing: string to double"
      ]
    },
    {
      "cell_type": "code",
      "execution_count": null,
      "metadata": {
        "id": "MLNWqkWspJj7"
      },
      "outputs": [],
      "source": [
        "# time_stamps = pd.to_datetime(time_stamps, format=\"%b %d, %Y\")"
      ]
    },
    {
      "cell_type": "code",
      "execution_count": null,
      "metadata": {
        "colab": {
          "base_uri": "https://localhost:8080/"
        },
        "id": "R_cA232co7Zy",
        "outputId": "1c78d122-0332-4742-d779-632165167aa1"
      },
      "outputs": [],
      "source": [
        "time_stamps"
      ]
    },
    {
      "cell_type": "code",
      "execution_count": null,
      "metadata": {
        "id": "6qruozaAoWGL"
      },
      "outputs": [],
      "source": [
        "df['Price'] = df['Price'].str.replace(',', '').astype(float)"
      ]
    },
    {
      "cell_type": "code",
      "execution_count": null,
      "metadata": {
        "colab": {
          "base_uri": "https://localhost:8080/"
        },
        "id": "OoYrpA0AnBus",
        "outputId": "0edabdab-6dd9-4cce-8155-026f807416b6"
      },
      "outputs": [],
      "source": [
        "df.dtypes"
      ]
    },
    {
      "attachments": {},
      "cell_type": "markdown",
      "metadata": {
        "id": "-DDSdSUaTbfn"
      },
      "source": [
        "#### H5 사용하기\n",
        "아래는 PastSampler를 통해 `.csv`데이터를 `h5`데이터로 변환하는 과정이다.\n",
        "- `h5`로 저장하면 모델을 학습시키는 도중에 문제가 발생하더라도 중단 지점부터 다시 시작할 수 있다.\n",
        "- "
      ]
    },
    {
      "cell_type": "code",
      "execution_count": null,
      "metadata": {
        "id": "fBhbayGvG6PR"
      },
      "outputs": [],
      "source": [
        "# file_name='bitcoin2015to2017_close.h5'\n",
        "file_name='bitcoin2012to2023_close.h5'\n",
        "\n",
        "from sklearn.preprocessing import MinMaxScaler\n",
        "scaler = MinMaxScaler()\n",
        "# normalization: 하나씩\n",
        "for c in columns:\n",
        "  df[c] = scaler.fit_transform(df[c].values.reshape(-1,1))\n",
        "\n",
        "# normalization: 전체\n",
        "# df_normalized = pd.DataFrame(scaler.fit_transform(df), columns=df.columns)"
      ]
    },
    {
      "cell_type": "code",
      "execution_count": null,
      "metadata": {
        "id": "BmovJDFkdRsa"
      },
      "outputs": [],
      "source": [
        "#Features are input sample dimensions(channels)\n",
        "A = np.array(df)[:,None,:]\n",
        "original_A = np.array(original_df)[:,None,:]\n",
        "time_stamps = np.array(time_stamps)[:,None,None]\n",
        "#Make samples of temporal sequences of pricing data (channel)\n",
        "# NPS, NFS = 24, 1  #Number of past and future samples: 24시간으로 1시간 예측\n",
        "NPS, NFS = 8, 1\n",
        "ps = PastSampler(NPS, NFS, sliding_window=True)\n",
        "B, Y = ps.transform(A)\n",
        "input_times, output_times = ps.transform(time_stamps)\n",
        "original_B, original_Y = ps.transform(original_A)"
      ]
    },
    {
      "cell_type": "code",
      "execution_count": null,
      "metadata": {
        "id": "i6UpXk2Te8v7"
      },
      "outputs": [],
      "source": [
        "import h5py\n",
        "with h5py.File(file_name, 'w') as f:\n",
        "    f.create_dataset(\"inputs\", data = B)\n",
        "    f.create_dataset('outputs', data = Y)\n",
        "    f.create_dataset(\"input_times\", data = input_times)\n",
        "    f.create_dataset('output_times', data = output_times)\n",
        "    f.create_dataset(\"original_datas\", data=np.array(original_df))\n",
        "    f.create_dataset('original_inputs',data=original_B)\n",
        "    f.create_dataset('original_outputs',data=original_Y)"
      ]
    },
    {
      "cell_type": "code",
      "execution_count": null,
      "metadata": {
        "colab": {
          "base_uri": "https://localhost:8080/"
        },
        "id": "k62i-H-tfEUL",
        "outputId": "39db50f9-8819-42ca-ef7c-7d2150a55e47"
      },
      "outputs": [],
      "source": [
        "B.shape"
      ]
    },
    {
      "attachments": {},
      "cell_type": "markdown",
      "metadata": {
        "id": "vwxTT0xMI0KQ"
      },
      "source": [
        "---\n",
        "### Building Models\n",
        "\n",
        "#### 1. CNN(Conv1D)\n",
        "> 에러메시지: \\\n",
        "> ValueError: Unexpected result of `train_function` (Empty logs). Please use `Model.compile(..., run_eagerly=True)`, or `tf.config.run_functions_eagerly(True)` for more information of where went wrong, or file a issue/bug to `tf.keras`.\n",
        "\n",
        "위 에러메시지는 `batch_size`를 매개변수로 초기화 하지 않았거나, Conv 데이터 모양이 일치하지 않아 발생하는 문제.\n",
        "\n",
        "**해결**: api를 사용하지 않고 2018년도부터 2023년까지 1시간 단위 데이터가 있는 csv를 바로 사용(기존 api는 기간 제한이 있었음.)\n",
        "\n",
        "> _Output Time Steps = (Input Time Steps - Kernel Size) / Strides + 1_"
      ]
    },
    {
      "cell_type": "code",
      "execution_count": null,
      "metadata": {
        "id": "kY89b2whfVP6"
      },
      "outputs": [],
      "source": [
        "from keras import applications\n",
        "from keras.models import Sequential\n",
        "from keras.models import Model\n",
        "from keras.layers import Dropout, Flatten, Dense, Activation\n",
        "from keras.callbacks import CSVLogger\n",
        "import tensorflow as tf\n",
        "from imageio import imread\n",
        "import numpy as np\n",
        "import random\n",
        "from keras.layers import LSTM\n",
        "from keras.layers import Conv1D, MaxPooling1D\n",
        "from keras import backend as K\n",
        "import keras\n",
        "from keras.callbacks import CSVLogger, ModelCheckpoint\n",
        "from keras import optimizers\n",
        "import h5py\n",
        "from sklearn.preprocessing import MinMaxScaler\n",
        "import os\n",
        "import pandas as pd\n",
        "import tensorflow.compat.v1 as tf\n",
        "tf.disable_v2_behavior()\n",
        "\n",
        "import matplotlib.pyplot as plt\n",
        "plt.switch_backend('agg')\n",
        "os.environ['TF_FORCE_GPU_ALLOW_GROWTH'] = 'True'\n",
        "os.environ['CUDA_DEVICE_ORDER'] = 'PCI_BUS_ID'\n",
        "os.environ['CUDA_VISIBLE_DEVICES'] = '1'\n",
        "os.environ['TF_CPP_MIN_LOG_LEVEL']='2'\n",
        "\n",
        "config = tf.compat.v1.ConfigProto()\n",
        "config.gpu_options.allow_growth = True\n",
        "sess = tf.compat.v1.Session(config=config)\n",
        "tf.compat.v1.keras.backend.set_session(sess)\n",
        "\n",
        "with h5py.File(''.join(['bitcoin2012to2023_close.h5']), 'r') as hf:\n",
        "    datas = hf['inputs'][()]\n",
        "    labels = hf['outputs'][()]\n",
        "    input_times = hf['input_times'][()]\n",
        "    output_times = hf['output_times'][()]\n",
        "    original_datas = hf['original_datas'][()]\n",
        "    original_outputs = hf['original_outputs'][()]"
      ]
    },
    {
      "cell_type": "code",
      "execution_count": null,
      "metadata": {
        "id": "aGhHdBdIf-jW"
      },
      "outputs": [],
      "source": [
        "scaler=MinMaxScaler()\n",
        "#split training validation\n",
        "training_size = int(0.8* datas.shape[0])\n",
        "training_datas = datas[:training_size,:]\n",
        "training_labels = labels[:training_size,:]\n",
        "validation_datas = datas[training_size:,:]\n",
        "validation_labels = labels[training_size:,:]\n",
        "ground_true = original_outputs[training_size:,:]"
      ]
    },
    {
      "cell_type": "code",
      "execution_count": null,
      "metadata": {
        "id": "y-zJf_bvgCFg"
      },
      "outputs": [],
      "source": [
        "step_size = datas.shape[1]\n",
        "batch_size= 32\n",
        "nb_features = datas.shape[2]\n",
        "epochs = 100"
      ]
    },
    {
      "cell_type": "code",
      "execution_count": null,
      "metadata": {
        "id": "HBWpIZI5kbIz"
      },
      "outputs": [],
      "source": [
        "# model.add(Conv1D(filters=2, padding='same', kernel_size=8, activation='relu', input_shape=(step_size, nb_features)))\n",
        "# model.add(Conv1D(filters=2, padding='same', kernel_size=8, activation='relu'))\n",
        "# model.add(Dropout(0.05))\n",
        "# model.add(Flatten())\n",
        "# model.add(Dense(100, activation='relu'))\n",
        "# model.compile(optimizer='adam', loss='mse')"
      ]
    },
    {
      "attachments": {},
      "cell_type": "markdown",
      "metadata": {
        "id": "CF0STkF4osY2"
      },
      "source": [
        "> loss와 val_loss 확인 시, 일반화가 낮아 loss와 val_loss가 수렴하지 않으므로, 모델의 복잡도가 낮은 버전 활용"
      ]
    },
    {
      "cell_type": "code",
      "execution_count": null,
      "metadata": {
        "id": "oLvkdEdqJCGx"
      },
      "outputs": [],
      "source": [
        "#build model\n",
        "model = Sequential()\n",
        "model.add(Conv1D(activation=\"relu\", input_shape=(step_size, nb_features), strides=3\t, filters=8, kernel_size=8))\n",
        "# model.add(Dropout(0.05))\n",
        "model.add(Conv1D( strides=4, padding='same', filters=nb_features, kernel_size=8))\n",
        "\n",
        "model.compile(loss='mse', optimizer='adam')\n"
      ]
    },
    {
      "cell_type": "code",
      "execution_count": null,
      "metadata": {
        "colab": {
          "base_uri": "https://localhost:8080/"
        },
        "id": "-6vEs685gPJx",
        "outputId": "6aeed75c-65e6-42eb-e247-7da941e7ff4c"
      },
      "outputs": [],
      "source": [
        "output_file_name = '2012to2023_BTC-USD'\n",
        "\n",
        "history = model.fit(\n",
        "    training_datas,\n",
        "    training_labels,\n",
        "    verbose=1,\n",
        "    batch_size=batch_size,\n",
        "    validation_data=(validation_datas, validation_labels),\n",
        "    epochs=epochs,\n",
        "    callbacks=[\n",
        "        CSVLogger(output_file_name+'.csv', append=True),\n",
        "        ModelCheckpoint('weights_2012to2023/'+output_file_name+'-{epoch:02d}-{val_loss:.5f}.hdf5', monitor='val_loss', verbose=1, mode='min')\n",
        "    ]\n",
        ")"
      ]
    },
    {
      "cell_type": "code",
      "execution_count": null,
      "metadata": {
        "colab": {
          "base_uri": "https://localhost:8080/",
          "height": 460
        },
        "id": "64ICxyY-bjZA",
        "outputId": "f427f671-db12-4e52-b39c-cacd1de3aea0"
      },
      "outputs": [],
      "source": [
        "%matplotlib inline\n",
        "plt.figure(figsize=(20,10))\n",
        "plt.plot(history.history['loss'])\n",
        "plt.plot(history.history['val_loss'])\n",
        "plt.title('Model loss')\n",
        "plt.ylabel('Loss')\n",
        "plt.xlabel('Epoch')\n",
        "plt.legend(['Train', 'Validation'], loc='upper left')\n",
        "plt.show()"
      ]
    },
    {
      "cell_type": "code",
      "execution_count": null,
      "metadata": {
        "id": "mCbWMzU-qHqy"
      },
      "outputs": [],
      "source": [
        "import matplotlib.pyplot as plt\n",
        "\n",
        "# 학습과 검증 손실 추출\n",
        "train_loss = history.history['loss']\n",
        "val_loss = history.history['val_loss']\n",
        "\n",
        "# 손실 그래프 그리기\n",
        "epochs = range(1, len(train_loss) + 1)\n",
        "plt.plot(epochs, train_loss, 'bo', label='Training loss')\n",
        "plt.plot(epochs, val_loss, 'b', label='Validation loss')\n",
        "plt.title('Training and validation loss')\n",
        "plt.xlabel('Epochs')\n",
        "plt.ylabel('Loss')\n",
        "plt.legend()\n",
        "plt.show()"
      ]
    },
    {
      "attachments": {},
      "cell_type": "markdown",
      "metadata": {
        "id": "YSsbZcHoxwfk"
      },
      "source": [
        "#### Result Plotting"
      ]
    },
    {
      "attachments": {},
      "cell_type": "markdown",
      "metadata": {
        "id": "lub5QMlbtQva"
      },
      "source": []
    },
    {
      "cell_type": "code",
      "execution_count": null,
      "metadata": {
        "id": "V2C-bxiVYL3H"
      },
      "outputs": [],
      "source": [
        "# predicted = model.predict(validation_datas)\n",
        "# predicted_inverted = []"
      ]
    },
    {
      "cell_type": "code",
      "execution_count": null,
      "metadata": {
        "id": "eAYWfQKPg5a8"
      },
      "outputs": [],
      "source": [
        "# for i in range(original_datas.shape[1]):\n",
        "# \tscaler.fit((np.char.replace((original_datas[:,i].astype(str)), ',', '').astype(float)).reshape(-1,1))\n",
        "# \tpredicted_inverted.append(scaler.inverse_transform(predicted[:,:,i]))"
      ]
    },
    {
      "cell_type": "code",
      "execution_count": null,
      "metadata": {
        "id": "7zmBLwVhYKVO"
      },
      "outputs": [],
      "source": [
        "# ground_true = ground_true[:,:,0].reshape(-1)\n",
        "# output_times = output_times.reshape(-1)\n",
        "\n",
        "# predicted_inverted = np.array(predicted_inverted)[:,:,0].reshape(-1)"
      ]
    },
    {
      "cell_type": "code",
      "execution_count": null,
      "metadata": {
        "id": "J91RTtiewPlZ"
      },
      "outputs": [],
      "source": [
        "# from datetime import datetime\n",
        "# output_times_datetime = [datetime.strptime(ts.decode(), '%b %d, %Y') for ts in output_times]\n",
        "# # 변환된 값 확인\n",
        "# print(output_times_datetime)"
      ]
    },
    {
      "cell_type": "code",
      "execution_count": null,
      "metadata": {
        "id": "RoelCXZqwbUh"
      },
      "outputs": [],
      "source": [
        "# ground_true = np.array([float(y.decode().replace(',', '')) for y in ground_true])\n",
        "# ground_true"
      ]
    },
    {
      "cell_type": "code",
      "execution_count": null,
      "metadata": {
        "id": "b6M2_QPs2Ajg"
      },
      "outputs": [],
      "source": [
        "with h5py.File(''.join(['bitcoin2012to2023_close.h5']), 'r') as hf:\n",
        "    datas = hf['inputs'][()]\n",
        "    labels = hf['outputs'][()]\n",
        "    input_times = hf['input_times'][()]\n",
        "    output_times = hf['output_times'][()]\n",
        "    original_inputs = hf['original_inputs'][()]\n",
        "    original_outputs = hf['original_outputs'][()]\n",
        "    original_datas = hf['original_datas'][()]\n",
        "\n",
        "scaler=MinMaxScaler()\n",
        "#split training validation\n",
        "training_size = int(0.8* datas.shape[0])\n",
        "training_datas = datas[:training_size,:,:]\n",
        "training_labels = labels[:training_size,:,:]\n",
        "validation_datas = datas[training_size:,:,:]\n",
        "validation_labels = labels[training_size:,:,:]\n",
        "validation_original_outputs = original_outputs[training_size:,:,:]\n",
        "validation_original_inputs = original_inputs[training_size:,:,:]\n",
        "validation_input_times = input_times[training_size:,:,:]\n",
        "validation_output_times = output_times[training_size:,:,:]\n",
        "\n",
        "ground_true = np.append(validation_original_inputs,validation_original_outputs, axis=1)\n",
        "ground_true_times = np.append(validation_input_times,validation_output_times, axis=1)\n",
        "step_size = datas.shape[1]\n",
        "batch_size= 8\n",
        "nb_features = datas.shape[2]\n",
        "\n",
        "model = Sequential()\n",
        "\n",
        "#build model\n",
        "model = Sequential()\n",
        "model.add(Conv1D(activation=\"relu\", input_shape=(step_size, nb_features), strides=3\t, filters=8, kernel_size=8))\n",
        "# model.add(Dropout(0.05))\n",
        "model.add(Conv1D( strides=4, padding='same', filters=nb_features, kernel_size=8))\n",
        "# 가중치 적용: weights에 생성된 적절한 가중치 선택\n",
        "model.load_weights('weights_2012to2023/2012to2023_BTC-USD-80-0.00000.hdf5')\n",
        "model.compile(loss='mse', optimizer='adam')"
      ]
    },
    {
      "cell_type": "code",
      "execution_count": 129,
      "metadata": {},
      "outputs": [
        {
          "data": {
            "image/png": "[encoded data removed]",
            "text/plain": [
              "<Figure size 640x480 with 1 Axes>"
            ]
          },
          "metadata": {},
          "output_type": "display_data"
        }
      ],
      "source": [
        "plt.figure(figsize=(20,10))\n",
        "plt.plot(all_times, np.char.replace((all_original_values.astype(str)), ',', '').astype(float))\n",
        "plt.show()"
      ]
    },
    {
      "cell_type": "code",
      "execution_count": null,
      "metadata": {
        "colab": {
          "base_uri": "https://localhost:8080/"
        },
        "id": "JL0_MzxpLK7u",
        "outputId": "c541c3f5-fc1e-4274-f883-5082bd83397d"
      },
      "outputs": [],
      "source": [
        "predicted = model.predict(validation_datas)\n",
        "predicted_inverted = []\n",
        "\n",
        "for i in range(original_datas.shape[1]):\n",
        "    scaler.fit((np.char.replace((original_datas[:,i].astype(str)), ',', '').astype(float)).reshape(-1,1))\n",
        "    predicted_inverted.append(scaler.inverse_transform(predicted[:,:,i]))\n",
        "print(np.array(predicted_inverted).shape)\n",
        "#get only the close data\n",
        "ground_true = ground_true.reshape(-1)\n",
        "ground_true_times = ground_true_times.reshape(-1)\n",
        "ground_true_times = pd.to_datetime(ground_true_times.astype(str), format=\"%b %d, %Y\")\n",
        "# since we are appending in the first dimension\n",
        "predicted_inverted = np.array(predicted_inverted)[0,:,:].reshape(-1)\n",
        "print(np.array(predicted_inverted).shape)\n",
        "validation_output_times = pd.to_datetime(validation_output_times.astype(str).reshape(-1), format=\"%b %d, %Y\")"
      ]
    },
    {
      "cell_type": "code",
      "execution_count": null,
      "metadata": {
        "id": "InTgFPKiKtre"
      },
      "outputs": [],
      "source": [
        "ground_true_df = pd.DataFrame()\n",
        "ground_true_df['times'] = ground_true_times\n",
        "ground_true_df['value'] = ground_true"
      ]
    },
    {
      "cell_type": "code",
      "execution_count": null,
      "metadata": {
        "colab": {
          "base_uri": "https://localhost:8080/",
          "height": 423
        },
        "id": "mXxRRDf_QMwf",
        "outputId": "70127518-103c-4b9d-e49b-e98e55de1f0f"
      },
      "outputs": [],
      "source": [
        "ground_true_df"
      ]
    },
    {
      "cell_type": "code",
      "execution_count": null,
      "metadata": {
        "id": "SxaDMPY56CCK"
      },
      "outputs": [],
      "source": [
        "ground_true_df['value'] = ground_true_df['value'].apply(lambda x: float(x.decode('utf-8').replace(\",\", \"\")))\n"
      ]
    },
    {
      "cell_type": "code",
      "execution_count": null,
      "metadata": {
        "colab": {
          "base_uri": "https://localhost:8080/",
          "height": 423
        },
        "id": "xaON4OUnQHcO",
        "outputId": "7dfd6479-5dd5-4eac-b0f8-f28aaec9c55e"
      },
      "outputs": [],
      "source": [
        "prediction_df = pd.DataFrame()\n",
        "prediction_df['times'] = validation_output_times\n",
        "prediction_df['value'] = predicted_inverted\n",
        "prediction_df"
      ]
    },
    {
      "cell_type": "code",
      "execution_count": null,
      "metadata": {
        "id": "pU8b87yq6SIf"
      },
      "outputs": [],
      "source": [
        "# prediction_df['value'] = prediction_df['value'].apply(lambda x: float(x.decode('utf-8').replace(\",\", \"\")))"
      ]
    },
    {
      "cell_type": "code",
      "execution_count": null,
      "metadata": {
        "colab": {
          "base_uri": "https://localhost:8080/",
          "height": 443
        },
        "id": "tsK4jY58SCOX",
        "outputId": "8eb7b7b5-f5fd-436d-e10e-b0e3c06ae60c"
      },
      "outputs": [],
      "source": [
        "%matplotlib inline\n",
        "plt.figure(figsize=(20,10))\n",
        "plt.plot(ground_true_df.times,ground_true_df.value, label = 'Actual')\n",
        "plt.plot(prediction_df.times,prediction_df.value,'ro', label='Predicted')\n",
        "plt.legend(loc='upper left')\n",
        "plt.show()"
      ]
    },
    {
      "cell_type": "code",
      "execution_count": null,
      "metadata": {
        "colab": {
          "base_uri": "https://localhost:8080/",
          "height": 452
        },
        "id": "yRpMHmqvG8f2",
        "outputId": "ec7e9258-1244-418a-e4df-90deca1f6d31"
      },
      "outputs": [],
      "source": [
        "# 1. df 내 값들을 하루에 하나로 resample\n",
        "%matplotlib inline\n",
        "prediction_df.set_index('times', inplace=True)\n",
        "ground_true_df.set_index('times', inplace=True)\n",
        "\n",
        "# prediction_df.index = pd.to_datetime(prediction_df.index)\n",
        "# ground_true_df.index = pd.to_datetime(ground_true_df.index)\n",
        "\n",
        "prediction_df = prediction_df.resample('D').last()\n",
        "ground_true_df = ground_true_df.resample('D').last()\n",
        "\n",
        "plt.figure(figsize=(20,10))\n",
        "plt.plot(ground_true_df.index,ground_true_df.value, label = 'Actual')\n",
        "plt.plot(prediction_df.index,prediction_df.value,'ro', label='Predicted')\n",
        "plt.legend(loc='upper left')\n",
        "# plt.savefig('result_2018to2023/bitcoin2018to2023_close_CNN_2_relu_result.png')\n",
        "plt.show()"
      ]
    },
    {
      "cell_type": "code",
      "execution_count": null,
      "metadata": {
        "colab": {
          "base_uri": "https://localhost:8080/",
          "height": 452
        },
        "id": "n4iu1r8YB_rV",
        "outputId": "f5efb9b4-0155-4f2d-f53d-17f5fca1d7cd"
      },
      "outputs": [],
      "source": [
        "# 2. df 내 모든 값 표시\n",
        "prediction_df = prediction_df.loc[(prediction_df[\"times\"] >= \"2012-05-15\") ]\n",
        "ground_true_df = ground_true_df.loc[(ground_true_df[\"times\"] >= \"2012-05-15\")]\n",
        "\n",
        "plt.figure(figsize=(20,10))\n",
        "plt.plot(ground_true_df.times,ground_true_df.value, label = 'Actual')\n",
        "plt.plot(prediction_df.times,prediction_df.value,'ro', label='Predicted')\n",
        "plt.legend(loc='upper left')\n",
        "# plt.savefig('result_2018to2023/bitcoin2018to2023_close_CNN_2_relu_result.png')\n",
        "plt.show()"
      ]
    },
    {
      "cell_type": "code",
      "execution_count": null,
      "metadata": {
        "colab": {
          "base_uri": "https://localhost:8080/"
        },
        "id": "A_BramWsCBJd",
        "outputId": "47cc20d4-d76a-46ee-fbcf-65558a82700b"
      },
      "outputs": [],
      "source": [
        "from sklearn.metrics import mean_squared_error\n",
        "mean_squared_error(validation_original_outputs[:,:,0].reshape(-1),predicted_inverted)"
      ]
    },
    {
      "cell_type": "code",
      "execution_count": null,
      "metadata": {},
      "outputs": [],
      "source": [
        "# 그래프 출력\n",
        "# plt.figure(figsize=(20,10))\n",
        "# plt.plot(all_times, all_original_values, label='Actual')\n",
        "# plt.legend(loc='upper left')\n",
        "# plt.show()"
      ]
    },
    {
      "cell_type": "code",
      "execution_count": null,
      "metadata": {},
      "outputs": [],
      "source": [
        "output_times"
      ]
    }
  ],
  "metadata": {
    "accelerator": "GPU",
    "colab": {
      "authorship_tag": "ABX9TyMpNobSqGMsm6+kO4LODD7F",
      "gpuType": "T4",
      "include_colab_link": true,
      "mount_file_id": "17ZE5htR9MNkKX3xQPjtiC2_LsvHfGVW5",
      "provenance": []
    },
    "gpuClass": "standard",
    "kernelspec": {
      "display_name": "Python 3",
      "name": "python3"
    },
    "language_info": {
      "codemirror_mode": {
        "name": "ipython",
        "version": 3
      },
      "file_extension": ".py",
      "mimetype": "text/x-python",
      "name": "python",
      "nbconvert_exporter": "python",
      "pygments_lexer": "ipython3",
      "version": "3.11.0"
    }
  },
  "nbformat": 4,
  "nbformat_minor": 0
}
